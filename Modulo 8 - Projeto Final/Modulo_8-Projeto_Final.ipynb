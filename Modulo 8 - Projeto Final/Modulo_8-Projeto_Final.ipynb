{
 "cells": [
  {
   "cell_type": "markdown",
   "id": "d7443194",
   "metadata": {},
   "source": [
    "<a href=\"https://www.kaggle.com/\" target=\"_blank\"><img align=\"left\" alt=\"Kaggle - Jessica\" title=\"Abrir no Kaggle (Jessica)\" src=\"https://kaggle.com/static/images/open-in-kaggle.svg\"></a>"
   ]
  },
  {
   "attachments": {
    "ebac_logo_.png": {
     "image/png": "[encoded data removed]"
    }
   },
   "cell_type": "markdown",
   "id": "b2c0acc6",
   "metadata": {},
   "source": [
    "![ebac_logo_.png](attachment:ebac_logo_.png)\n",
    "\n",
    "\n",
    "# Projeto Final de SQL – Módulo 8\n",
    "\n",
    "Neste notebook, apresentamos uma análise exploratória do conjunto de dados de crédito, utilizando consultas SQL em Amazon Athena e visualização com pandas.\n",
    "\n",
    "O objetivo é compreender o perfil dos clientes, identificar padrões de gastos e relacionar as variáveis demográficas com limites de crédito e transações.\n"
   ]
  },
  {
   "cell_type": "markdown",
   "id": "ab8a09ec",
   "metadata": {
    "papermill": {
     "duration": 0.019735,
     "end_time": "2023-05-23T19:02:05.116873",
     "exception": false,
     "start_time": "2023-05-23T19:02:05.097138",
     "status": "completed"
    },
    "tags": []
   },
   "source": [
    "\n",
    "# **SQL para Análise de Dados**\n",
    "## **Módulo 8** | SQL: Projeto\n",
    "\n",
    "Professora [Mariane Neiva](https://www.linkedin.com/in/mariane-neiva/)<br>\n",
    "Aluna Jessica Mitsuoka \n",
    "\n",
    "Data: 31 de julho de 2025."
   ]
  },
  {
   "cell_type": "markdown",
   "id": "af778d08",
   "metadata": {
    "papermill": {
     "duration": 0.018639,
     "end_time": "2023-05-23T19:02:05.155116",
     "exception": false,
     "start_time": "2023-05-23T19:02:05.136477",
     "status": "completed"
    },
    "tags": []
   },
   "source": [
    "# **Índice**"
   ]
  },
  {
   "cell_type": "markdown",
   "id": "e9a72fd6",
   "metadata": {
    "papermill": {
     "duration": 0.019457,
     "end_time": "2023-05-23T19:02:05.194275",
     "exception": false,
     "start_time": "2023-05-23T19:02:05.174818",
     "status": "completed"
    },
    "tags": []
   },
   "source": [
    "- [**0. Conjunto de dados**](#0.-Conjunto-de-dados)  \n",
    "\n",
    "- [**1. Criação da tabela**](#1.-Criação-da-tabela)  \n",
    "\n",
    "- [**2. EDA (Exploratory Data Analysis)**](#2.-EDA-(Exploratory-Data-Analysis))  \n",
    "\n",
    "> - [2.1 Preview da tabela](#2.1-Preview-da-tabela)  \n",
    "\n",
    "> - [2.2 Quantidade de linhas no dataset](#2.2-Quantidade-de-linhas-no-dataset)  \n",
    "\n",
    "> - [2.3 Tipos de dados em cada coluna](#2.3-Tipos-de-dados-em-cada-coluna)  \n",
    "\n",
    "> - [2.4.1 Categorias da variável *escolaridade*](#2.4.1-Categorias-da-variável-escolaridade)  \n",
    "> - [2.4.2 Categorias da variável *estado_civil*](#2.4.2-Categorias-da-variável-estado_civil)  \n",
    "> - [2.4.3 Categorias da variável *sexo*](#2.4.3-Categorias-da-variável-sexo)  \n",
    "\n",
    "> - [2.5.1 Quantidade de clientes em cada faixa salarial](#2.5.1-Quantidade-de-clientes-em-cada-faixa-salarial)  \n",
    "> - [2.5.2 Quantidade de clientes de acordo com cada tipo de cartão](#2.5.2-Quantidade-de-clientes-de-acordo-com-cada-tipo-de-cartão)  \n",
    "> - [2.5.3 Quantidade de clientes de acordo com o sexo](#2.5.3-Quantidade-de-clientes-de-acordo-com-o-sexo)  \n",
    "\n",
    "> - [2.6.1 Análise da idade dos clientes (média, mínima e máxima)](#2.6.1-Análise-da-idade-dos-clientes-(média,-mínima-e-máxima))  \n",
    "> - [2.6.2 Análise dos gastos dos clientes (média, mínima e máxima)](#2.6.2-Análise-dos-gastos-dos-clientes-(média,-mínima-e-máxima))  \n",
    "\n",
    "> - [2.7.1 Limite mínimo de crédito de acordo com o tipo de cartão, sexo e escolaridade](#2.7.1-Limite-mínimo-de-crédito-de-acordo-com-o-tipo-de-cartão,-sexo-e-escolaridade)  \n",
    "> - [2.7.2 Limite máximo de crédito de acordo com o tipo de cartão, sexo e escolaridade](#2.7.2-Limite-máximo-de-crédito-de-acordo-com-o-tipo-de-cartão,-sexo-e-escolaridade)  \n",
    "\n",
    "> - [2.8 Análise da quantidade e valores das transações de acordo com o sexo e estado civil](#2.8-Análise-da-quantidade-e-valores-das-transações-de-acordo-com-o-sexo-e-estado-civil)  \n",
    "\n",
    "> - [2.9 Média da quantidade de transações, valor das transações e limite de crédito de acordo com o tipo de cartão e salário anual](#2.9-Média-da-quantidade-de-transações,-valor-das-transações-e-limite-de-crédito-de-acordo-com-o-tipo-de-cartão-e-salário-anual)  \n",
    "\n",
    "- [**3. Conclusão**](#3.-Conclusão:)"
   ]
  },
  {
   "cell_type": "markdown",
   "id": "d2f3ab92",
   "metadata": {
    "papermill": {
     "duration": 0.018886,
     "end_time": "2023-05-23T19:02:05.232237",
     "exception": false,
     "start_time": "2023-05-23T19:02:05.213351",
     "status": "completed"
    },
    "tags": []
   },
   "source": [
    "# **0. Conjunto de dados**"
   ]
  },
  {
   "cell_type": "markdown",
   "id": "ab5eebfa",
   "metadata": {
    "papermill": {
     "duration": 0.018746,
     "end_time": "2023-05-23T19:02:05.270655",
     "exception": false,
     "start_time": "2023-05-23T19:02:05.251909",
     "status": "completed"
    },
    "tags": []
   },
   "source": [
    "O [conjunto de dados](credito8.csv) utilizado neste projeto consiste em uma subamostra do [dataset original](https://raw.githubusercontent.com/andre-marcos-perez/ebac-course-utils/main/dataset/credito.csv) do professor André Perez. É importante destacar que pode haver discrepâncias nas proporções das categorias nesta amostra parcial em relação ao conjunto de dados original. Essa subamostra foi extraída com o objetivo de facilitar o processamento dos dados para o projeto em questão. Para acessar o dataset completo, você pode visitar o repositório GitHub do professor André Perez, disponível através do link: https://github.com/andre-marcos-perez/ebac-course-utils/blob/main/dataset/credito.csv.\n",
    "\n",
    "É válido ressaltar que as estimativas baseadas nesse conjunto de dados podem variar em relação ao conjunto completo."
   ]
  },
  {
   "cell_type": "markdown",
   "id": "1cf27a25",
   "metadata": {
    "papermill": {
     "duration": 0.018914,
     "end_time": "2023-05-23T19:02:05.30885",
     "exception": false,
     "start_time": "2023-05-23T19:02:05.289936",
     "status": "completed"
    },
    "tags": []
   },
   "source": [
    "| Coluna                   | Descrição                                               | Tipo     |\n",
    "| :----------------------- | :-----------------------------------------------------: | -------: |\n",
    "| **idade**                | idade do cliente                                        | *int*    | \n",
    "| **sexo**                 | sexo do cliente (F ou M)                                | *string* |\n",
    "| **dependentes**          | número de dependentes do cliente                        | *int*    |\n",
    "| **escolaridade**         | nível de escolaridade do clientes                       | *string* |\n",
    "| **estado_civil**         | estado civil do cliente                                 | *string* |\n",
    "| **salario_anual**        | faixa salarial do cliente                               | *string* |\n",
    "| **tipo_cartao**          | tipo de cartao do cliente                               | *string* |\n",
    "| **qtd_produtos**         | quantidade de produtos comprados nos últimos 12 meses   | *bigint* |\n",
    "| **iteracoes_12m**        | quantidade de iterações/transacoes nos ultimos 12 meses | *int*    |\n",
    "| **meses_inativo_12m**    | quantidade de meses que o cliente ficou inativo         | *int*    |\n",
    "| **limite_credito**       | limite de credito do cliente                            | *float*  |\n",
    "| **valor_transacoes_12m** | valor das transações dos ultimos 12 meses               | *float*  |\n",
    "| **qtd_transacoes_12m**   | quantidade de transacoes dos ultimos 12 meses           | *int*    |"
   ]
  },
  {
   "cell_type": "markdown",
   "id": "195b2d7e",
   "metadata": {
    "papermill": {
     "duration": 0.018649,
     "end_time": "2023-05-23T19:02:05.346496",
     "exception": false,
     "start_time": "2023-05-23T19:02:05.327847",
     "status": "completed"
    },
    "tags": []
   },
   "source": [
    "A tabela e as *queries* em linguagem SQL foram criadas através do [Amazon Athena](https://aws.amazon.com/pt/athena/) junto com o [Amazon Simple Storage Service (Amazon S3)](https://aws.amazon.com/pt/s3/).\n",
    "\n",
    "[**Amazon Web Services**](https://aws.amazon.com/pt/), também conhecido como [**AWS**](https://aws.amazon.com/pt/), é uma plataforma de serviços de computação em nuvem, que formam uma plataforma de computação na nuvem oferecida pela Amazon.com."
   ]
  },
  {
   "cell_type": "code",
   "execution_count": 1,
   "id": "8ca3bb68",
   "metadata": {
    "execution": {
     "iopub.execute_input": "2023-05-23T19:02:05.426629Z",
     "iopub.status.busy": "2023-05-23T19:02:05.425831Z",
     "iopub.status.idle": "2023-05-23T19:02:05.440628Z",
     "shell.execute_reply": "2023-05-23T19:02:05.439397Z"
    },
    "jupyter": {
     "source_hidden": true
    },
    "papermill": {
     "duration": 0.038354,
     "end_time": "2023-05-23T19:02:05.443267",
     "exception": false,
     "start_time": "2023-05-23T19:02:05.404913",
     "status": "completed"
    },
    "tags": []
   },
   "outputs": [],
   "source": [
    "# Import da biblioteca pandas para visualização dos arquivos CSV resultantes das queries\n",
    "\n",
    "import pandas as pd"
   ]
  },
  {
   "cell_type": "markdown",
   "id": "0f0d7081",
   "metadata": {
    "papermill": {
     "duration": 0.018804,
     "end_time": "2023-05-23T19:02:05.481404",
     "exception": false,
     "start_time": "2023-05-23T19:02:05.4626",
     "status": "completed"
    },
    "tags": []
   },
   "source": [
    "# **1. Criação da tabela**"
   ]
  },
  {
   "cell_type": "markdown",
   "id": "99b4910c",
   "metadata": {
    "papermill": {
     "duration": 0.018917,
     "end_time": "2023-05-23T19:02:05.519378",
     "exception": false,
     "start_time": "2023-05-23T19:02:05.500461",
     "status": "completed"
    },
    "tags": []
   },
   "source": [
    "A primeira etapa é a criação da tabela com o *dataset* armazenado no **Amazon S3 Bucket** por meio de uma *query* no **AWS Athena**, para posteriormente realizar as consultas."
   ]
  },
  {
   "cell_type": "markdown",
   "id": "caefb9bb",
   "metadata": {
    "papermill": {
     "duration": 0.018955,
     "end_time": "2023-05-23T19:02:05.557955",
     "exception": false,
     "start_time": "2023-05-23T19:02:05.539",
     "status": "completed"
    },
    "tags": []
   },
   "source": [
    "```sql\n",
    "CREATE EXTERNAL TABLE IF NOT EXISTS default.credito (\n",
    "\t`idade` int,\n",
    "\t`sexo` string,\n",
    "\t`dependentes` int,\n",
    "\t`escolaridade` string,\n",
    "\t`estado_civil` string,\n",
    "\t`salario_anual` string,\n",
    "\t`tipo_cartao` string,\n",
    "\t`qtd_produtos` bigint,\n",
    "\t`iteracoes_12m` int,\n",
    "\t`meses_inativo_12m` int,\n",
    "\t`limite_credito` float,\n",
    "\t`valor_transacoes_12m` float,\n",
    "\t`qtd_transacoes_12m` int\n",
    ")\n",
    "ROW FORMAT SERDE 'org.apache.hadoop.hive.serde2.lazy.LazySimpleSerDe'\n",
    "WITH SERDEPROPERTIES (\n",
    "\t'serialization.format' = ',',\n",
    "\t'field.delim' = ','\n",
    ")\n",
    "LOCATION 's3://bucket-jessica-transacoes/'\n",
    "TBLPROPERTIES ('has_encrypted_data' = 'false');\n",
    "```"
   ]
  },
  {
   "cell_type": "markdown",
   "id": "f6542717",
   "metadata": {
    "papermill": {
     "duration": 0.019358,
     "end_time": "2023-05-23T19:02:05.634694",
     "exception": false,
     "start_time": "2023-05-23T19:02:05.615336",
     "status": "completed"
    },
    "tags": []
   },
   "source": [
    "# **2. EDA (Exploratory Data Analysis)**"
   ]
  },
  {
   "cell_type": "markdown",
   "id": "40ae7517",
   "metadata": {
    "papermill": {
     "duration": 0.018912,
     "end_time": "2023-05-23T19:02:05.711117",
     "exception": false,
     "start_time": "2023-05-23T19:02:05.692205",
     "status": "completed"
    },
    "tags": []
   },
   "source": [
    "## 2.1 Preview da tabela"
   ]
  },
  {
   "cell_type": "markdown",
   "id": "dff713b6",
   "metadata": {
    "papermill": {
     "duration": 0.019368,
     "end_time": "2023-05-23T19:02:05.749539",
     "exception": false,
     "start_time": "2023-05-23T19:02:05.730171",
     "status": "completed"
    },
    "tags": []
   },
   "source": [
    "> **Query 1:**\n",
    "\n",
    "```sql\n",
    "SELECT * FROM \"default\".\"credito\" limit 10;\n",
    "```"
   ]
  },
  {
   "cell_type": "code",
   "execution_count": 2,
   "id": "2772b952",
   "metadata": {
    "execution": {
     "iopub.execute_input": "2023-05-23T19:02:05.79012Z",
     "iopub.status.busy": "2023-05-23T19:02:05.789672Z",
     "iopub.status.idle": "2023-05-23T19:02:06.082544Z",
     "shell.execute_reply": "2023-05-23T19:02:06.081245Z"
    },
    "jupyter": {
     "source_hidden": true
    },
    "papermill": {
     "duration": 0.317077,
     "end_time": "2023-05-23T19:02:06.085706",
     "exception": false,
     "start_time": "2023-05-23T19:02:05.768629",
     "status": "completed"
    },
    "tags": []
   },
   "outputs": [
    {
     "data": {
      "text/html": [
       "<div>\n",
       "<style scoped>\n",
       "    .dataframe tbody tr th:only-of-type {\n",
       "        vertical-align: middle;\n",
       "    }\n",
       "\n",
       "    .dataframe tbody tr th {\n",
       "        vertical-align: top;\n",
       "    }\n",
       "\n",
       "    .dataframe thead th {\n",
       "        text-align: right;\n",
       "    }\n",
       "</style>\n",
       "<table border=\"1\" class=\"dataframe\">\n",
       "  <thead>\n",
       "    <tr style=\"text-align: right;\">\n",
       "      <th></th>\n",
       "      <th>idade</th>\n",
       "      <th>sexo</th>\n",
       "      <th>dependentes</th>\n",
       "      <th>escolaridade</th>\n",
       "      <th>estado_civil</th>\n",
       "      <th>salario_anual</th>\n",
       "      <th>tipo_cartao</th>\n",
       "      <th>qtd_produtos</th>\n",
       "      <th>iteracoes_12m</th>\n",
       "      <th>meses_inativo_12m</th>\n",
       "      <th>limite_credito</th>\n",
       "      <th>valor_transacoes_12m</th>\n",
       "      <th>qtd_transacoes_12m</th>\n",
       "    </tr>\n",
       "  </thead>\n",
       "  <tbody>\n",
       "    <tr>\n",
       "      <th>0</th>\n",
       "      <td>45</td>\n",
       "      <td>M</td>\n",
       "      <td>3</td>\n",
       "      <td>ensino medio</td>\n",
       "      <td>casado</td>\n",
       "      <td>$60K - $80K</td>\n",
       "      <td>blue</td>\n",
       "      <td>5</td>\n",
       "      <td>3</td>\n",
       "      <td>1</td>\n",
       "      <td>12691.51</td>\n",
       "      <td>1144.90</td>\n",
       "      <td>42</td>\n",
       "    </tr>\n",
       "    <tr>\n",
       "      <th>1</th>\n",
       "      <td>49</td>\n",
       "      <td>F</td>\n",
       "      <td>5</td>\n",
       "      <td>mestrado</td>\n",
       "      <td>solteiro</td>\n",
       "      <td>menos que $40K</td>\n",
       "      <td>blue</td>\n",
       "      <td>6</td>\n",
       "      <td>2</td>\n",
       "      <td>1</td>\n",
       "      <td>8256.96</td>\n",
       "      <td>1291.45</td>\n",
       "      <td>33</td>\n",
       "    </tr>\n",
       "    <tr>\n",
       "      <th>2</th>\n",
       "      <td>51</td>\n",
       "      <td>M</td>\n",
       "      <td>3</td>\n",
       "      <td>mestrado</td>\n",
       "      <td>casado</td>\n",
       "      <td>$80K - $120K</td>\n",
       "      <td>blue</td>\n",
       "      <td>4</td>\n",
       "      <td>0</td>\n",
       "      <td>1</td>\n",
       "      <td>3418.56</td>\n",
       "      <td>1887.72</td>\n",
       "      <td>20</td>\n",
       "    </tr>\n",
       "    <tr>\n",
       "      <th>3</th>\n",
       "      <td>40</td>\n",
       "      <td>F</td>\n",
       "      <td>4</td>\n",
       "      <td>ensino medio</td>\n",
       "      <td>na</td>\n",
       "      <td>menos que $40K</td>\n",
       "      <td>blue</td>\n",
       "      <td>3</td>\n",
       "      <td>1</td>\n",
       "      <td>4</td>\n",
       "      <td>3313.03</td>\n",
       "      <td>1171.56</td>\n",
       "      <td>20</td>\n",
       "    </tr>\n",
       "    <tr>\n",
       "      <th>4</th>\n",
       "      <td>40</td>\n",
       "      <td>M</td>\n",
       "      <td>3</td>\n",
       "      <td>sem educacao formal</td>\n",
       "      <td>casado</td>\n",
       "      <td>$60K - $80K</td>\n",
       "      <td>blue</td>\n",
       "      <td>5</td>\n",
       "      <td>0</td>\n",
       "      <td>1</td>\n",
       "      <td>4716.22</td>\n",
       "      <td>816.08</td>\n",
       "      <td>28</td>\n",
       "    </tr>\n",
       "    <tr>\n",
       "      <th>5</th>\n",
       "      <td>44</td>\n",
       "      <td>M</td>\n",
       "      <td>2</td>\n",
       "      <td>mestrado</td>\n",
       "      <td>casado</td>\n",
       "      <td>$40K - $60K</td>\n",
       "      <td>blue</td>\n",
       "      <td>3</td>\n",
       "      <td>2</td>\n",
       "      <td>1</td>\n",
       "      <td>4010.69</td>\n",
       "      <td>1088.07</td>\n",
       "      <td>24</td>\n",
       "    </tr>\n",
       "    <tr>\n",
       "      <th>6</th>\n",
       "      <td>51</td>\n",
       "      <td>M</td>\n",
       "      <td>4</td>\n",
       "      <td>na</td>\n",
       "      <td>casado</td>\n",
       "      <td>$120K +</td>\n",
       "      <td>gold</td>\n",
       "      <td>6</td>\n",
       "      <td>3</td>\n",
       "      <td>1</td>\n",
       "      <td>34516.72</td>\n",
       "      <td>1330.87</td>\n",
       "      <td>31</td>\n",
       "    </tr>\n",
       "    <tr>\n",
       "      <th>7</th>\n",
       "      <td>32</td>\n",
       "      <td>M</td>\n",
       "      <td>0</td>\n",
       "      <td>ensino medio</td>\n",
       "      <td>na</td>\n",
       "      <td>$60K - $80K</td>\n",
       "      <td>silver</td>\n",
       "      <td>2</td>\n",
       "      <td>2</td>\n",
       "      <td>2</td>\n",
       "      <td>29081.49</td>\n",
       "      <td>1538.32</td>\n",
       "      <td>36</td>\n",
       "    </tr>\n",
       "    <tr>\n",
       "      <th>8</th>\n",
       "      <td>37</td>\n",
       "      <td>M</td>\n",
       "      <td>3</td>\n",
       "      <td>sem educacao formal</td>\n",
       "      <td>solteiro</td>\n",
       "      <td>$60K - $80K</td>\n",
       "      <td>blue</td>\n",
       "      <td>5</td>\n",
       "      <td>0</td>\n",
       "      <td>2</td>\n",
       "      <td>22352.50</td>\n",
       "      <td>1350.14</td>\n",
       "      <td>24</td>\n",
       "    </tr>\n",
       "    <tr>\n",
       "      <th>9</th>\n",
       "      <td>48</td>\n",
       "      <td>M</td>\n",
       "      <td>2</td>\n",
       "      <td>mestrado</td>\n",
       "      <td>solteiro</td>\n",
       "      <td>$80K - $120K</td>\n",
       "      <td>blue</td>\n",
       "      <td>6</td>\n",
       "      <td>3</td>\n",
       "      <td>3</td>\n",
       "      <td>11656.41</td>\n",
       "      <td>1441.73</td>\n",
       "      <td>32</td>\n",
       "    </tr>\n",
       "  </tbody>\n",
       "</table>\n",
       "</div>"
      ],
      "text/plain": [
       "   idade sexo  dependentes         escolaridade estado_civil   salario_anual  \\\n",
       "0     45    M            3         ensino medio       casado     $60K - $80K   \n",
       "1     49    F            5             mestrado     solteiro  menos que $40K   \n",
       "2     51    M            3             mestrado       casado    $80K - $120K   \n",
       "3     40    F            4         ensino medio           na  menos que $40K   \n",
       "4     40    M            3  sem educacao formal       casado     $60K - $80K   \n",
       "5     44    M            2             mestrado       casado     $40K - $60K   \n",
       "6     51    M            4                   na       casado         $120K +   \n",
       "7     32    M            0         ensino medio           na     $60K - $80K   \n",
       "8     37    M            3  sem educacao formal     solteiro     $60K - $80K   \n",
       "9     48    M            2             mestrado     solteiro    $80K - $120K   \n",
       "\n",
       "  tipo_cartao  qtd_produtos  iteracoes_12m  meses_inativo_12m  limite_credito  \\\n",
       "0        blue             5              3                  1        12691.51   \n",
       "1        blue             6              2                  1         8256.96   \n",
       "2        blue             4              0                  1         3418.56   \n",
       "3        blue             3              1                  4         3313.03   \n",
       "4        blue             5              0                  1         4716.22   \n",
       "5        blue             3              2                  1         4010.69   \n",
       "6        gold             6              3                  1        34516.72   \n",
       "7      silver             2              2                  2        29081.49   \n",
       "8        blue             5              0                  2        22352.50   \n",
       "9        blue             6              3                  3        11656.41   \n",
       "\n",
       "   valor_transacoes_12m  qtd_transacoes_12m  \n",
       "0               1144.90                  42  \n",
       "1               1291.45                  33  \n",
       "2               1887.72                  20  \n",
       "3               1171.56                  20  \n",
       "4                816.08                  28  \n",
       "5               1088.07                  24  \n",
       "6               1330.87                  31  \n",
       "7               1538.32                  36  \n",
       "8               1350.14                  24  \n",
       "9               1441.73                  32  "
      ]
     },
     "execution_count": 2,
     "metadata": {},
     "output_type": "execute_result"
    }
   ],
   "source": [
    "df = pd.read_csv('https://raw.githubusercontent.com/JessicaMitsuoka/exercicios-SQL-para-Analise-de-Dados-EBAC/refs/heads/main/Modulo%208%20-%20Projeto%20Final/dados/credito8.csv')\n",
    "df.head(10)"
   ]
  },
  {
   "cell_type": "markdown",
   "id": "5234b33e",
   "metadata": {
    "papermill": {
     "duration": 0.019256,
     "end_time": "2023-05-23T19:02:06.165304",
     "exception": false,
     "start_time": "2023-05-23T19:02:06.146048",
     "status": "completed"
    },
    "tags": []
   },
   "source": [
    "## 2.2 Quantidade de linhas no dataset"
   ]
  },
  {
   "cell_type": "markdown",
   "id": "9756b69d",
   "metadata": {
    "papermill": {
     "duration": 0.019812,
     "end_time": "2023-05-23T19:02:06.204832",
     "exception": false,
     "start_time": "2023-05-23T19:02:06.18502",
     "status": "completed"
    },
    "tags": []
   },
   "source": [
    "> **Query 2:**\n",
    "\n",
    "```sql\n",
    "SELECT COUNT(*) AS quantidade_linhas\n",
    "FROM credito;\n",
    "```"
   ]
  },
  {
   "cell_type": "code",
   "execution_count": 3,
   "id": "d77a2cc2",
   "metadata": {
    "execution": {
     "iopub.execute_input": "2023-05-23T19:02:06.246061Z",
     "iopub.status.busy": "2023-05-23T19:02:06.245634Z",
     "iopub.status.idle": "2023-05-23T19:02:06.473748Z",
     "shell.execute_reply": "2023-05-23T19:02:06.472504Z"
    },
    "jupyter": {
     "source_hidden": true
    },
    "papermill": {
     "duration": 0.252002,
     "end_time": "2023-05-23T19:02:06.476448",
     "exception": false,
     "start_time": "2023-05-23T19:02:06.224446",
     "status": "completed"
    },
    "tags": []
   },
   "outputs": [
    {
     "data": {
      "text/html": [
       "<div>\n",
       "<style scoped>\n",
       "    .dataframe tbody tr th:only-of-type {\n",
       "        vertical-align: middle;\n",
       "    }\n",
       "\n",
       "    .dataframe tbody tr th {\n",
       "        vertical-align: top;\n",
       "    }\n",
       "\n",
       "    .dataframe thead th {\n",
       "        text-align: right;\n",
       "    }\n",
       "</style>\n",
       "<table border=\"1\" class=\"dataframe\">\n",
       "  <thead>\n",
       "    <tr style=\"text-align: right;\">\n",
       "      <th></th>\n",
       "      <th>quantidade_linhas</th>\n",
       "    </tr>\n",
       "  </thead>\n",
       "  <tbody>\n",
       "    <tr>\n",
       "      <th>0</th>\n",
       "      <td>2564</td>\n",
       "    </tr>\n",
       "  </tbody>\n",
       "</table>\n",
       "</div>"
      ],
      "text/plain": [
       "   quantidade_linhas\n",
       "0               2564"
      ]
     },
     "execution_count": 3,
     "metadata": {},
     "output_type": "execute_result"
    }
   ],
   "source": [
    "pd.read_csv('https://raw.githubusercontent.com/JessicaMitsuoka/exercicios-SQL-para-Analise-de-Dados-EBAC/refs/heads/main/Modulo%208%20-%20Projeto%20Final/dados/output/query02.csv').shape[0]\n"
   ]
  },
  {
   "cell_type": "markdown",
   "id": "d9db15c9",
   "metadata": {
    "papermill": {
     "duration": 0.020227,
     "end_time": "2023-05-23T19:02:06.59783",
     "exception": false,
     "start_time": "2023-05-23T19:02:06.577603",
     "status": "completed"
    },
    "tags": []
   },
   "source": [
    "## 2.3 Tipos de dados em cada coluna"
   ]
  },
  {
   "attachments": {
    "query03.png": {
     "image/png": "[encoded data removed]"
    }
   },
   "cell_type": "markdown",
   "id": "df991328",
   "metadata": {
    "papermill": {
     "duration": 0.019558,
     "end_time": "2023-05-23T19:02:06.637218",
     "exception": false,
     "start_time": "2023-05-23T19:02:06.61766",
     "status": "completed"
    },
    "tags": []
   },
   "source": [
    "> **Query 3:**\n",
    "\n",
    "```sql\n",
    "DESCRIBE credito;\n",
    "```\n",
    "\n",
    "![query03.png](attachment:query03.png)"
   ]
  },
  {
   "cell_type": "markdown",
   "id": "aa006d87",
   "metadata": {
    "papermill": {
     "duration": 0.01967,
     "end_time": "2023-05-23T19:02:06.676743",
     "exception": false,
     "start_time": "2023-05-23T19:02:06.657073",
     "status": "completed"
    },
    "tags": []
   },
   "source": [
    "> Os tipos dos dados no *dataset* podem ser descritos como:\n",
    "> - `int` representa dados do tipo inteiro (numérico);\n",
    "> - `string` representa dados do tipo texto ou cadeia de caracteres;\n",
    "> - `bigint` representa dados do tipo inteiro longo (um número inteiro maior do que o tipo int);\n",
    "> - `float` representa dados do tipo número de ponto flutuante (um número com parte fracionária)."
   ]
  },
  {
   "cell_type": "markdown",
   "id": "e199bbe6",
   "metadata": {
    "papermill": {
     "duration": 0.019776,
     "end_time": "2023-05-23T19:02:06.757129",
     "exception": false,
     "start_time": "2023-05-23T19:02:06.737353",
     "status": "completed"
    },
    "tags": []
   },
   "source": [
    "## 2.4.1 Categorias da variável `escolaridade`"
   ]
  },
  {
   "cell_type": "markdown",
   "id": "5fec8db5",
   "metadata": {
    "papermill": {
     "duration": 0.019565,
     "end_time": "2023-05-23T19:02:06.796598",
     "exception": false,
     "start_time": "2023-05-23T19:02:06.777033",
     "status": "completed"
    },
    "tags": []
   },
   "source": [
    "> **Query 4:**\n",
    "\n",
    "```sql\n",
    "SELECT DISTINCT escolaridade\n",
    "FROM credito;\n",
    "```"
   ]
  },
  {
   "cell_type": "code",
   "execution_count": 4,
   "id": "4decb84e",
   "metadata": {
    "execution": {
     "iopub.execute_input": "2023-05-23T19:02:06.838557Z",
     "iopub.status.busy": "2023-05-23T19:02:06.837732Z",
     "iopub.status.idle": "2023-05-23T19:02:07.043679Z",
     "shell.execute_reply": "2023-05-23T19:02:07.04252Z"
    },
    "jupyter": {
     "source_hidden": true
    },
    "papermill": {
     "duration": 0.229993,
     "end_time": "2023-05-23T19:02:07.046436",
     "exception": false,
     "start_time": "2023-05-23T19:02:06.816443",
     "status": "completed"
    },
    "tags": []
   },
   "outputs": [
    {
     "data": {
      "text/html": [
       "<div>\n",
       "<style scoped>\n",
       "    .dataframe tbody tr th:only-of-type {\n",
       "        vertical-align: middle;\n",
       "    }\n",
       "\n",
       "    .dataframe tbody tr th {\n",
       "        vertical-align: top;\n",
       "    }\n",
       "\n",
       "    .dataframe thead th {\n",
       "        text-align: right;\n",
       "    }\n",
       "</style>\n",
       "<table border=\"1\" class=\"dataframe\">\n",
       "  <thead>\n",
       "    <tr style=\"text-align: right;\">\n",
       "      <th></th>\n",
       "      <th>escolaridade</th>\n",
       "    </tr>\n",
       "  </thead>\n",
       "  <tbody>\n",
       "    <tr>\n",
       "      <th>0</th>\n",
       "      <td>na</td>\n",
       "    </tr>\n",
       "    <tr>\n",
       "      <th>1</th>\n",
       "      <td>sem educacao formal</td>\n",
       "    </tr>\n",
       "    <tr>\n",
       "      <th>2</th>\n",
       "      <td>ensino medio</td>\n",
       "    </tr>\n",
       "    <tr>\n",
       "      <th>3</th>\n",
       "      <td>mestrado</td>\n",
       "    </tr>\n",
       "    <tr>\n",
       "      <th>4</th>\n",
       "      <td>graduacao</td>\n",
       "    </tr>\n",
       "    <tr>\n",
       "      <th>5</th>\n",
       "      <td>doutorado</td>\n",
       "    </tr>\n",
       "  </tbody>\n",
       "</table>\n",
       "</div>"
      ],
      "text/plain": [
       "          escolaridade\n",
       "0                   na\n",
       "1  sem educacao formal\n",
       "2         ensino medio\n",
       "3             mestrado\n",
       "4            graduacao\n",
       "5            doutorado"
      ]
     },
     "execution_count": 4,
     "metadata": {},
     "output_type": "execute_result"
    }
   ],
   "source": [
    "pd.read_csv('https://raw.githubusercontent.com/JessicaMitsuoka/exercicios-SQL-para-Analise-de-Dados-EBAC/refs/heads/main/Modulo%208%20-%20Projeto%20Final/dados/output/query04.csv')"
   ]
  },
  {
   "cell_type": "markdown",
   "id": "74998099",
   "metadata": {
    "papermill": {
     "duration": 0.020221,
     "end_time": "2023-05-23T19:02:07.087824",
     "exception": false,
     "start_time": "2023-05-23T19:02:07.067603",
     "status": "completed"
    },
    "tags": []
   },
   "source": [
    "> Podemos notar que há valores **nulos/ausentes** na variável categórica `escolaridade`, representados pelo valor **`na`**."
   ]
  },
  {
   "cell_type": "markdown",
   "id": "42b87d7c",
   "metadata": {
    "papermill": {
     "duration": 0.020155,
     "end_time": "2023-05-23T19:02:07.168991",
     "exception": false,
     "start_time": "2023-05-23T19:02:07.148836",
     "status": "completed"
    },
    "tags": []
   },
   "source": [
    "## 2.4.2 Categorias da variável `estado_civil`"
   ]
  },
  {
   "cell_type": "markdown",
   "id": "9b938a92",
   "metadata": {
    "papermill": {
     "duration": 0.019987,
     "end_time": "2023-05-23T19:02:07.209107",
     "exception": false,
     "start_time": "2023-05-23T19:02:07.18912",
     "status": "completed"
    },
    "tags": []
   },
   "source": [
    "> **Query 5:**\n",
    "\n",
    "```sql\n",
    "SELECT DISTINCT estado_civil\n",
    "FROM credito;\n",
    "```"
   ]
  },
  {
   "cell_type": "code",
   "execution_count": 5,
   "id": "3f99fd0f",
   "metadata": {
    "execution": {
     "iopub.execute_input": "2023-05-23T19:02:07.252563Z",
     "iopub.status.busy": "2023-05-23T19:02:07.251726Z",
     "iopub.status.idle": "2023-05-23T19:02:07.466051Z",
     "shell.execute_reply": "2023-05-23T19:02:07.464741Z"
    },
    "jupyter": {
     "source_hidden": true
    },
    "papermill": {
     "duration": 0.238856,
     "end_time": "2023-05-23T19:02:07.468754",
     "exception": false,
     "start_time": "2023-05-23T19:02:07.229898",
     "status": "completed"
    },
    "tags": []
   },
   "outputs": [
    {
     "data": {
      "text/html": [
       "<div>\n",
       "<style scoped>\n",
       "    .dataframe tbody tr th:only-of-type {\n",
       "        vertical-align: middle;\n",
       "    }\n",
       "\n",
       "    .dataframe tbody tr th {\n",
       "        vertical-align: top;\n",
       "    }\n",
       "\n",
       "    .dataframe thead th {\n",
       "        text-align: right;\n",
       "    }\n",
       "</style>\n",
       "<table border=\"1\" class=\"dataframe\">\n",
       "  <thead>\n",
       "    <tr style=\"text-align: right;\">\n",
       "      <th></th>\n",
       "      <th>estado_civil</th>\n",
       "    </tr>\n",
       "  </thead>\n",
       "  <tbody>\n",
       "    <tr>\n",
       "      <th>0</th>\n",
       "      <td>divorciado</td>\n",
       "    </tr>\n",
       "    <tr>\n",
       "      <th>1</th>\n",
       "      <td>na</td>\n",
       "    </tr>\n",
       "    <tr>\n",
       "      <th>2</th>\n",
       "      <td>casado</td>\n",
       "    </tr>\n",
       "    <tr>\n",
       "      <th>3</th>\n",
       "      <td>solteiro</td>\n",
       "    </tr>\n",
       "  </tbody>\n",
       "</table>\n",
       "</div>"
      ],
      "text/plain": [
       "  estado_civil\n",
       "0   divorciado\n",
       "1           na\n",
       "2       casado\n",
       "3     solteiro"
      ]
     },
     "execution_count": 5,
     "metadata": {},
     "output_type": "execute_result"
    }
   ],
   "source": [
    "pd.read_csv('https://raw.githubusercontent.com/JessicaMitsuoka/exercicios-SQL-para-Analise-de-Dados-EBAC/refs/heads/main/Modulo%208%20-%20Projeto%20Final/dados/output/query05.csv')"
   ]
  },
  {
   "cell_type": "markdown",
   "id": "6779f207",
   "metadata": {
    "papermill": {
     "duration": 0.020624,
     "end_time": "2023-05-23T19:02:07.509953",
     "exception": false,
     "start_time": "2023-05-23T19:02:07.489329",
     "status": "completed"
    },
    "tags": []
   },
   "source": [
    "> Também podemos notar a presença de valores nulos na variável categórica `estado_civil`."
   ]
  },
  {
   "cell_type": "markdown",
   "id": "b466f2f2",
   "metadata": {
    "papermill": {
     "duration": 0.020309,
     "end_time": "2023-05-23T19:02:07.591479",
     "exception": false,
     "start_time": "2023-05-23T19:02:07.57117",
     "status": "completed"
    },
    "tags": []
   },
   "source": [
    "## 2.4.3 Categorias da variável `sexo`"
   ]
  },
  {
   "cell_type": "markdown",
   "id": "9c58a60f",
   "metadata": {
    "papermill": {
     "duration": 0.020115,
     "end_time": "2023-05-23T19:02:07.632082",
     "exception": false,
     "start_time": "2023-05-23T19:02:07.611967",
     "status": "completed"
    },
    "tags": []
   },
   "source": [
    "> **Query 6:**\n",
    "\n",
    "```sql\n",
    "SELECT DISTINCT sexo\n",
    "FROM credito;\n",
    "```"
   ]
  },
  {
   "cell_type": "code",
   "execution_count": 6,
   "id": "40742681",
   "metadata": {
    "execution": {
     "iopub.execute_input": "2023-05-23T19:02:07.67604Z",
     "iopub.status.busy": "2023-05-23T19:02:07.675189Z",
     "iopub.status.idle": "2023-05-23T19:02:07.908308Z",
     "shell.execute_reply": "2023-05-23T19:02:07.907119Z"
    },
    "jupyter": {
     "source_hidden": true
    },
    "papermill": {
     "duration": 0.257676,
     "end_time": "2023-05-23T19:02:07.910739",
     "exception": false,
     "start_time": "2023-05-23T19:02:07.653063",
     "status": "completed"
    },
    "tags": []
   },
   "outputs": [
    {
     "data": {
      "text/html": [
       "<div>\n",
       "<style scoped>\n",
       "    .dataframe tbody tr th:only-of-type {\n",
       "        vertical-align: middle;\n",
       "    }\n",
       "\n",
       "    .dataframe tbody tr th {\n",
       "        vertical-align: top;\n",
       "    }\n",
       "\n",
       "    .dataframe thead th {\n",
       "        text-align: right;\n",
       "    }\n",
       "</style>\n",
       "<table border=\"1\" class=\"dataframe\">\n",
       "  <thead>\n",
       "    <tr style=\"text-align: right;\">\n",
       "      <th></th>\n",
       "      <th>sexo</th>\n",
       "    </tr>\n",
       "  </thead>\n",
       "  <tbody>\n",
       "    <tr>\n",
       "      <th>0</th>\n",
       "      <td>F</td>\n",
       "    </tr>\n",
       "    <tr>\n",
       "      <th>1</th>\n",
       "      <td>M</td>\n",
       "    </tr>\n",
       "  </tbody>\n",
       "</table>\n",
       "</div>"
      ],
      "text/plain": [
       "  sexo\n",
       "0    F\n",
       "1    M"
      ]
     },
     "execution_count": 6,
     "metadata": {},
     "output_type": "execute_result"
    }
   ],
   "source": [
    "pd.read_csv('https://raw.githubusercontent.com/JessicaMitsuoka/exercicios-SQL-para-Analise-de-Dados-EBAC/refs/heads/main/Modulo%208%20-%20Projeto%20Final/dados/output/query06.csv')"
   ]
  },
  {
   "cell_type": "markdown",
   "id": "c7a64ab7",
   "metadata": {
    "papermill": {
     "duration": 0.02058,
     "end_time": "2023-05-23T19:02:07.952515",
     "exception": false,
     "start_time": "2023-05-23T19:02:07.931935",
     "status": "completed"
    },
    "tags": []
   },
   "source": [
    "> Diferente das demais colunas, não há valores nulos na variável categórica `sexo`."
   ]
  },
  {
   "cell_type": "markdown",
   "id": "ab144ae7",
   "metadata": {
    "papermill": {
     "duration": 0.020488,
     "end_time": "2023-05-23T19:02:08.036033",
     "exception": false,
     "start_time": "2023-05-23T19:02:08.015545",
     "status": "completed"
    },
    "tags": []
   },
   "source": [
    "## 2.5.1 Quantidade de clientes em cada faixa salarial"
   ]
  },
  {
   "cell_type": "markdown",
   "id": "8e4ecfa4",
   "metadata": {
    "papermill": {
     "duration": 0.020732,
     "end_time": "2023-05-23T19:02:08.077773",
     "exception": false,
     "start_time": "2023-05-23T19:02:08.057041",
     "status": "completed"
    },
    "tags": []
   },
   "source": [
    "> **Query 7:**\n",
    "\n",
    "```sql\n",
    "SELECT salario_anual,\n",
    "\tCOUNT(*) AS quantidade\n",
    "FROM credito\n",
    "GROUP BY salario_anual\n",
    "ORDER BY CASE\n",
    "\t\tsalario_anual\n",
    "\t\tWHEN 'menos que $40K' THEN 1\n",
    "\t\tWHEN '$40K - $60K' THEN 2\n",
    "\t\tWHEN '$60K - $80K' THEN 3\n",
    "\t\tWHEN '$80K - $120K' THEN 4\n",
    "\t\tWHEN '$120K +' THEN 5 ELSE 6\n",
    "\tEND;\n",
    "```"
   ]
  },
  {
   "cell_type": "code",
   "execution_count": 7,
   "id": "ce3d7412",
   "metadata": {
    "execution": {
     "iopub.execute_input": "2023-05-23T19:02:08.121653Z",
     "iopub.status.busy": "2023-05-23T19:02:08.120943Z",
     "iopub.status.idle": "2023-05-23T19:02:08.348057Z",
     "shell.execute_reply": "2023-05-23T19:02:08.346736Z"
    },
    "papermill": {
     "duration": 0.252261,
     "end_time": "2023-05-23T19:02:08.350718",
     "exception": false,
     "start_time": "2023-05-23T19:02:08.098457",
     "status": "completed"
    },
    "tags": []
   },
   "outputs": [
    {
     "data": {
      "text/html": [
       "<div>\n",
       "<style scoped>\n",
       "    .dataframe tbody tr th:only-of-type {\n",
       "        vertical-align: middle;\n",
       "    }\n",
       "\n",
       "    .dataframe tbody tr th {\n",
       "        vertical-align: top;\n",
       "    }\n",
       "\n",
       "    .dataframe thead th {\n",
       "        text-align: right;\n",
       "    }\n",
       "</style>\n",
       "<table border=\"1\" class=\"dataframe\">\n",
       "  <thead>\n",
       "    <tr style=\"text-align: right;\">\n",
       "      <th></th>\n",
       "      <th>salario_anual</th>\n",
       "      <th>quantidade</th>\n",
       "    </tr>\n",
       "  </thead>\n",
       "  <tbody>\n",
       "    <tr>\n",
       "      <th>0</th>\n",
       "      <td>menos que $40K</td>\n",
       "      <td>701</td>\n",
       "    </tr>\n",
       "    <tr>\n",
       "      <th>1</th>\n",
       "      <td>$40K - $60K</td>\n",
       "      <td>467</td>\n",
       "    </tr>\n",
       "    <tr>\n",
       "      <th>2</th>\n",
       "      <td>$60K - $80K</td>\n",
       "      <td>451</td>\n",
       "    </tr>\n",
       "    <tr>\n",
       "      <th>3</th>\n",
       "      <td>$80K - $120K</td>\n",
       "      <td>488</td>\n",
       "    </tr>\n",
       "    <tr>\n",
       "      <th>4</th>\n",
       "      <td>$120K +</td>\n",
       "      <td>222</td>\n",
       "    </tr>\n",
       "    <tr>\n",
       "      <th>5</th>\n",
       "      <td>na</td>\n",
       "      <td>235</td>\n",
       "    </tr>\n",
       "  </tbody>\n",
       "</table>\n",
       "</div>"
      ],
      "text/plain": [
       "    salario_anual  quantidade\n",
       "0  menos que $40K         701\n",
       "1     $40K - $60K         467\n",
       "2     $60K - $80K         451\n",
       "3    $80K - $120K         488\n",
       "4         $120K +         222\n",
       "5              na         235"
      ]
     },
     "execution_count": 7,
     "metadata": {},
     "output_type": "execute_result"
    }
   ],
   "source": [
    "pd.read_csv('https://raw.githubusercontent.com/JessicaMitsuoka/exercicios-SQL-para-Analise-de-Dados-EBAC/refs/heads/main/Modulo%208%20-%20Projeto%20Final/dados/output/query07.csv')"
   ]
  },
  {
   "attachments": {
    "query07.png": {
     "image/png": "[encoded data removed]"
    }
   },
   "cell_type": "markdown",
   "id": "f3de0fc5",
   "metadata": {
    "papermill": {
     "duration": 0.022115,
     "end_time": "2023-05-23T19:02:08.393953",
     "exception": false,
     "start_time": "2023-05-23T19:02:08.371838",
     "status": "completed"
    },
    "tags": []
   },
   "source": [
    "![query07.png](attachment:query07.png)\n",
    "\n",
    "> Ao desconsiderar a presença dos 235 valores nulos na variável `salario_anual`, podemos observar que a maioria dos clientes recebem anualmente a quantia abaixo de \\\\$40.000,00 e a minoria acima de \\\\$120.000,00."
   ]
  },
  {
   "cell_type": "markdown",
   "id": "97490c24",
   "metadata": {
    "papermill": {
     "duration": 0.020881,
     "end_time": "2023-05-23T19:02:08.478382",
     "exception": false,
     "start_time": "2023-05-23T19:02:08.457501",
     "status": "completed"
    },
    "tags": []
   },
   "source": [
    "## 2.5.2 Quantidade de clientes de acordo com cada tipo de cartão"
   ]
  },
  {
   "cell_type": "markdown",
   "id": "39bcbe3f",
   "metadata": {
    "papermill": {
     "duration": 0.020963,
     "end_time": "2023-05-23T19:02:08.520428",
     "exception": false,
     "start_time": "2023-05-23T19:02:08.499465",
     "status": "completed"
    },
    "tags": []
   },
   "source": [
    "> **Query 8:**\n",
    "\n",
    "```sql\n",
    "SELECT tipo_cartao,\n",
    "\tCOUNT(*) AS quantidade\n",
    "FROM credito\n",
    "GROUP BY tipo_cartao\n",
    "ORDER BY quantidade DESC;\n",
    "```"
   ]
  },
  {
   "cell_type": "code",
   "execution_count": 8,
   "id": "682055a8",
   "metadata": {
    "execution": {
     "iopub.execute_input": "2023-05-23T19:02:08.564999Z",
     "iopub.status.busy": "2023-05-23T19:02:08.564562Z",
     "iopub.status.idle": "2023-05-23T19:02:08.794386Z",
     "shell.execute_reply": "2023-05-23T19:02:08.793168Z"
    },
    "jupyter": {
     "source_hidden": true
    },
    "papermill": {
     "duration": 0.255636,
     "end_time": "2023-05-23T19:02:08.797243",
     "exception": false,
     "start_time": "2023-05-23T19:02:08.541607",
     "status": "completed"
    },
    "tags": []
   },
   "outputs": [
    {
     "data": {
      "text/html": [
       "<div>\n",
       "<style scoped>\n",
       "    .dataframe tbody tr th:only-of-type {\n",
       "        vertical-align: middle;\n",
       "    }\n",
       "\n",
       "    .dataframe tbody tr th {\n",
       "        vertical-align: top;\n",
       "    }\n",
       "\n",
       "    .dataframe thead th {\n",
       "        text-align: right;\n",
       "    }\n",
       "</style>\n",
       "<table border=\"1\" class=\"dataframe\">\n",
       "  <thead>\n",
       "    <tr style=\"text-align: right;\">\n",
       "      <th></th>\n",
       "      <th>tipo_cartao</th>\n",
       "      <th>quantidade</th>\n",
       "    </tr>\n",
       "  </thead>\n",
       "  <tbody>\n",
       "    <tr>\n",
       "      <th>0</th>\n",
       "      <td>blue</td>\n",
       "      <td>2453</td>\n",
       "    </tr>\n",
       "    <tr>\n",
       "      <th>1</th>\n",
       "      <td>silver</td>\n",
       "      <td>93</td>\n",
       "    </tr>\n",
       "    <tr>\n",
       "      <th>2</th>\n",
       "      <td>gold</td>\n",
       "      <td>16</td>\n",
       "    </tr>\n",
       "    <tr>\n",
       "      <th>3</th>\n",
       "      <td>platinum</td>\n",
       "      <td>2</td>\n",
       "    </tr>\n",
       "  </tbody>\n",
       "</table>\n",
       "</div>"
      ],
      "text/plain": [
       "  tipo_cartao  quantidade\n",
       "0        blue        2453\n",
       "1      silver          93\n",
       "2        gold          16\n",
       "3    platinum           2"
      ]
     },
     "execution_count": 8,
     "metadata": {},
     "output_type": "execute_result"
    }
   ],
   "source": [
    "pd.read_csv('https://raw.githubusercontent.com/JessicaMitsuoka/exercicios-SQL-para-Analise-de-Dados-EBAC/refs/heads/main/Modulo%208%20-%20Projeto%20Final/dados/output/query08.csv')"
   ]
  },
  {
   "attachments": {
    "query08.png": {
     "image/png": "[encoded data removed]"
    }
   },
   "cell_type": "markdown",
   "id": "3d994791",
   "metadata": {
    "papermill": {
     "duration": 0.021728,
     "end_time": "2023-05-23T19:02:08.8407",
     "exception": false,
     "start_time": "2023-05-23T19:02:08.818972",
     "status": "completed"
    },
    "tags": []
   },
   "source": [
    "![query08.png](attachment:query08.png)\n",
    "\n",
    "> A maioria possui o tipo de cartão *blue*, dando a entender que supostamente façam parte dos clientes com faixa de salário anual de menor valor."
   ]
  },
  {
   "cell_type": "markdown",
   "id": "a86d995c",
   "metadata": {
    "papermill": {
     "duration": 0.021168,
     "end_time": "2023-05-23T19:02:08.927871",
     "exception": false,
     "start_time": "2023-05-23T19:02:08.906703",
     "status": "completed"
    },
    "tags": []
   },
   "source": [
    "## 2.5.3 Quantidade de clientes de acordo com o sexo"
   ]
  },
  {
   "cell_type": "markdown",
   "id": "2a53291e",
   "metadata": {
    "papermill": {
     "duration": 0.022077,
     "end_time": "2023-05-23T19:02:08.971367",
     "exception": false,
     "start_time": "2023-05-23T19:02:08.94929",
     "status": "completed"
    },
    "tags": []
   },
   "source": [
    "> **Query 9:**\n",
    "\n",
    "```sql\n",
    "SELECT sexo,\n",
    "\tCOUNT(*) AS quantidade\n",
    "FROM credito\n",
    "GROUP BY sexo\n",
    "ORDER BY quantidade DESC;\n",
    "```"
   ]
  },
  {
   "cell_type": "code",
   "execution_count": 9,
   "id": "c78bc867",
   "metadata": {
    "execution": {
     "iopub.execute_input": "2023-05-23T19:02:09.017426Z",
     "iopub.status.busy": "2023-05-23T19:02:09.016346Z",
     "iopub.status.idle": "2023-05-23T19:02:09.24645Z",
     "shell.execute_reply": "2023-05-23T19:02:09.245363Z"
    },
    "papermill": {
     "duration": 0.25608,
     "end_time": "2023-05-23T19:02:09.248982",
     "exception": false,
     "start_time": "2023-05-23T19:02:08.992902",
     "status": "completed"
    },
    "tags": []
   },
   "outputs": [
    {
     "data": {
      "text/html": [
       "<div>\n",
       "<style scoped>\n",
       "    .dataframe tbody tr th:only-of-type {\n",
       "        vertical-align: middle;\n",
       "    }\n",
       "\n",
       "    .dataframe tbody tr th {\n",
       "        vertical-align: top;\n",
       "    }\n",
       "\n",
       "    .dataframe thead th {\n",
       "        text-align: right;\n",
       "    }\n",
       "</style>\n",
       "<table border=\"1\" class=\"dataframe\">\n",
       "  <thead>\n",
       "    <tr style=\"text-align: right;\">\n",
       "      <th></th>\n",
       "      <th>sexo</th>\n",
       "      <th>quantidade</th>\n",
       "    </tr>\n",
       "  </thead>\n",
       "  <tbody>\n",
       "    <tr>\n",
       "      <th>0</th>\n",
       "      <td>M</td>\n",
       "      <td>1563</td>\n",
       "    </tr>\n",
       "    <tr>\n",
       "      <th>1</th>\n",
       "      <td>F</td>\n",
       "      <td>1001</td>\n",
       "    </tr>\n",
       "  </tbody>\n",
       "</table>\n",
       "</div>"
      ],
      "text/plain": [
       "  sexo  quantidade\n",
       "0    M        1563\n",
       "1    F        1001"
      ]
     },
     "execution_count": 9,
     "metadata": {},
     "output_type": "execute_result"
    }
   ],
   "source": [
    "pd.read_csv('https://raw.githubusercontent.com/JessicaMitsuoka/exercicios-SQL-para-Analise-de-Dados-EBAC/refs/heads/main/Modulo%208%20-%20Projeto%20Final/dados/output/query09.csv')"
   ]
  },
  {
   "attachments": {
    "query09.png": {
     "image/png": "[encoded data removed]"
    }
   },
   "cell_type": "markdown",
   "id": "8d655a85",
   "metadata": {
    "papermill": {
     "duration": 0.021495,
     "end_time": "2023-05-23T19:02:09.292106",
     "exception": false,
     "start_time": "2023-05-23T19:02:09.270611",
     "status": "completed"
    },
    "tags": []
   },
   "source": [
    "![query09.png](attachment:query09.png)\n",
    "\n",
    "> Neste conjunto de dados, a proporção de clientes do sexo masculino e feminino não está equilibrada. Portanto é algo que deve ser levado em consideração ao relacionar esta variável com as demais."
   ]
  },
  {
   "cell_type": "markdown",
   "id": "8769d392",
   "metadata": {
    "papermill": {
     "duration": 0.022011,
     "end_time": "2023-05-23T19:02:09.380498",
     "exception": false,
     "start_time": "2023-05-23T19:02:09.358487",
     "status": "completed"
    },
    "tags": []
   },
   "source": [
    "## 2.6.1 Análise da idade dos clientes (média, mínima e máxima)"
   ]
  },
  {
   "cell_type": "markdown",
   "id": "a29933e8",
   "metadata": {
    "papermill": {
     "duration": 0.021815,
     "end_time": "2023-05-23T19:02:09.424407",
     "exception": false,
     "start_time": "2023-05-23T19:02:09.402592",
     "status": "completed"
    },
    "tags": []
   },
   "source": [
    "> **Query 10:**\n",
    "\n",
    "```sql\n",
    "SELECT ROUND(AVG(idade)) AS idade_media,\n",
    "\tMIN(idade) AS idade_minima,\n",
    "\tMAX(idade) AS idade_maxima\n",
    "FROM credito;\n",
    "```"
   ]
  },
  {
   "cell_type": "code",
   "execution_count": 10,
   "id": "a83eda0d",
   "metadata": {
    "execution": {
     "iopub.execute_input": "2023-05-23T19:02:09.470838Z",
     "iopub.status.busy": "2023-05-23T19:02:09.470044Z",
     "iopub.status.idle": "2023-05-23T19:02:09.703238Z",
     "shell.execute_reply": "2023-05-23T19:02:09.701874Z"
    },
    "jupyter": {
     "source_hidden": true
    },
    "papermill": {
     "duration": 0.259369,
     "end_time": "2023-05-23T19:02:09.706019",
     "exception": false,
     "start_time": "2023-05-23T19:02:09.44665",
     "status": "completed"
    },
    "tags": []
   },
   "outputs": [
    {
     "data": {
      "text/html": [
       "<div>\n",
       "<style scoped>\n",
       "    .dataframe tbody tr th:only-of-type {\n",
       "        vertical-align: middle;\n",
       "    }\n",
       "\n",
       "    .dataframe tbody tr th {\n",
       "        vertical-align: top;\n",
       "    }\n",
       "\n",
       "    .dataframe thead th {\n",
       "        text-align: right;\n",
       "    }\n",
       "</style>\n",
       "<table border=\"1\" class=\"dataframe\">\n",
       "  <thead>\n",
       "    <tr style=\"text-align: right;\">\n",
       "      <th></th>\n",
       "      <th>idade_media</th>\n",
       "      <th>idade_minima</th>\n",
       "      <th>idade_maxima</th>\n",
       "    </tr>\n",
       "  </thead>\n",
       "  <tbody>\n",
       "    <tr>\n",
       "      <th>0</th>\n",
       "      <td>46.0</td>\n",
       "      <td>26</td>\n",
       "      <td>73</td>\n",
       "    </tr>\n",
       "  </tbody>\n",
       "</table>\n",
       "</div>"
      ],
      "text/plain": [
       "   idade_media  idade_minima  idade_maxima\n",
       "0         46.0            26            73"
      ]
     },
     "execution_count": 10,
     "metadata": {},
     "output_type": "execute_result"
    }
   ],
   "source": [
    "pd.read_csv('https://raw.githubusercontent.com/JessicaMitsuoka/exercicios-SQL-para-Analise-de-Dados-EBAC/refs/heads/main/Modulo%208%20-%20Projeto%20Final/dados/output/query10.csv')"
   ]
  },
  {
   "cell_type": "markdown",
   "id": "e3e41128",
   "metadata": {
    "papermill": {
     "duration": 0.02238,
     "end_time": "2023-05-23T19:02:09.750626",
     "exception": false,
     "start_time": "2023-05-23T19:02:09.728246",
     "status": "completed"
    },
    "tags": []
   },
   "source": [
    "## 2.6.2 Análise dos gastos dos clientes (média, mínima e máxima)"
   ]
  },
  {
   "cell_type": "markdown",
   "id": "ed887acb",
   "metadata": {
    "papermill": {
     "duration": 0.021631,
     "end_time": "2023-05-23T19:02:09.794416",
     "exception": false,
     "start_time": "2023-05-23T19:02:09.772785",
     "status": "completed"
    },
    "tags": []
   },
   "source": [
    "> **Query 11:**\n",
    "\n",
    "```sql\n",
    "SELECT ROUND(AVG(valor_transacoes_12m), 2) AS valor_medio_transacoes,\n",
    "\tMIN(valor_transacoes_12m) AS valor_minimo_transacoes,\n",
    "\tMAX(valor_transacoes_12m) AS valor_maximo_transacoes\n",
    "FROM credito;\n",
    "```"
   ]
  },
  {
   "cell_type": "code",
   "execution_count": 11,
   "id": "96852d02",
   "metadata": {
    "execution": {
     "iopub.execute_input": "2023-05-23T19:02:09.840816Z",
     "iopub.status.busy": "2023-05-23T19:02:09.840057Z",
     "iopub.status.idle": "2023-05-23T19:02:10.048112Z",
     "shell.execute_reply": "2023-05-23T19:02:10.046842Z"
    },
    "jupyter": {
     "source_hidden": true
    },
    "papermill": {
     "duration": 0.234589,
     "end_time": "2023-05-23T19:02:10.051177",
     "exception": false,
     "start_time": "2023-05-23T19:02:09.816588",
     "status": "completed"
    },
    "tags": []
   },
   "outputs": [
    {
     "data": {
      "text/html": [
       "<div>\n",
       "<style scoped>\n",
       "    .dataframe tbody tr th:only-of-type {\n",
       "        vertical-align: middle;\n",
       "    }\n",
       "\n",
       "    .dataframe tbody tr th {\n",
       "        vertical-align: top;\n",
       "    }\n",
       "\n",
       "    .dataframe thead th {\n",
       "        text-align: right;\n",
       "    }\n",
       "</style>\n",
       "<table border=\"1\" class=\"dataframe\">\n",
       "  <thead>\n",
       "    <tr style=\"text-align: right;\">\n",
       "      <th></th>\n",
       "      <th>valor_medio_transacoes</th>\n",
       "      <th>valor_minimo_transacoes</th>\n",
       "      <th>valor_maximo_transacoes</th>\n",
       "    </tr>\n",
       "  </thead>\n",
       "  <tbody>\n",
       "    <tr>\n",
       "      <th>0</th>\n",
       "      <td>1820.33</td>\n",
       "      <td>510.16</td>\n",
       "      <td>4776.58</td>\n",
       "    </tr>\n",
       "  </tbody>\n",
       "</table>\n",
       "</div>"
      ],
      "text/plain": [
       "   valor_medio_transacoes  valor_minimo_transacoes  valor_maximo_transacoes\n",
       "0                 1820.33                   510.16                  4776.58"
      ]
     },
     "execution_count": 11,
     "metadata": {},
     "output_type": "execute_result"
    }
   ],
   "source": [
    "pd.read_csv('https://raw.githubusercontent.com/JessicaMitsuoka/exercicios-SQL-para-Analise-de-Dados-EBAC/refs/heads/main/Modulo%208%20-%20Projeto%20Final/dados/output/query11.csv')"
   ]
  },
  {
   "cell_type": "markdown",
   "id": "d493b055",
   "metadata": {
    "papermill": {
     "duration": 0.02294,
     "end_time": "2023-05-23T19:02:10.141272",
     "exception": false,
     "start_time": "2023-05-23T19:02:10.118332",
     "status": "completed"
    },
    "tags": []
   },
   "source": [
    "## 2.7.1 Limite mínimo de crédito de acordo com o tipo de cartão, sexo e escolaridade"
   ]
  },
  {
   "cell_type": "markdown",
   "id": "a9a5241e",
   "metadata": {
    "papermill": {
     "duration": 0.022644,
     "end_time": "2023-05-23T19:02:10.186243",
     "exception": false,
     "start_time": "2023-05-23T19:02:10.163599",
     "status": "completed"
    },
    "tags": []
   },
   "source": [
    "> **Query 12:**\n",
    "\n",
    "```sql\n",
    "SELECT COUNT(*) as quantidade,\n",
    "\tMIN(limite_credito) AS limite_credito_maximo,\n",
    "\ttipo_cartao,\n",
    "\tsexo,\n",
    "\tescolaridade\n",
    "FROM credito\n",
    "WHERE escolaridade != 'na'\n",
    "GROUP BY sexo,\n",
    "\tescolaridade,\n",
    "\ttipo_cartao\n",
    "ORDER BY limite_credito_maximo ASC;\n",
    "```"
   ]
  },
  {
   "cell_type": "code",
   "execution_count": 12,
   "id": "db1caab2",
   "metadata": {
    "execution": {
     "iopub.execute_input": "2023-05-23T19:02:10.233862Z",
     "iopub.status.busy": "2023-05-23T19:02:10.233199Z",
     "iopub.status.idle": "2023-05-23T19:02:10.470103Z",
     "shell.execute_reply": "2023-05-23T19:02:10.468874Z"
    },
    "jupyter": {
     "source_hidden": true
    },
    "papermill": {
     "duration": 0.263783,
     "end_time": "2023-05-23T19:02:10.47261",
     "exception": false,
     "start_time": "2023-05-23T19:02:10.208827",
     "status": "completed"
    },
    "tags": []
   },
   "outputs": [
    {
     "data": {
      "text/html": [
       "<div>\n",
       "<style scoped>\n",
       "    .dataframe tbody tr th:only-of-type {\n",
       "        vertical-align: middle;\n",
       "    }\n",
       "\n",
       "    .dataframe tbody tr th {\n",
       "        vertical-align: top;\n",
       "    }\n",
       "\n",
       "    .dataframe thead th {\n",
       "        text-align: right;\n",
       "    }\n",
       "</style>\n",
       "<table border=\"1\" class=\"dataframe\">\n",
       "  <thead>\n",
       "    <tr style=\"text-align: right;\">\n",
       "      <th></th>\n",
       "      <th>quantidade</th>\n",
       "      <th>limite_credito_minimo</th>\n",
       "      <th>tipo_cartao</th>\n",
       "      <th>sexo</th>\n",
       "      <th>escolaridade</th>\n",
       "    </tr>\n",
       "  </thead>\n",
       "  <tbody>\n",
       "    <tr>\n",
       "      <th>0</th>\n",
       "      <td>91</td>\n",
       "      <td>1438.03</td>\n",
       "      <td>blue</td>\n",
       "      <td>F</td>\n",
       "      <td>graduacao</td>\n",
       "    </tr>\n",
       "    <tr>\n",
       "      <th>1</th>\n",
       "      <td>92</td>\n",
       "      <td>1438.04</td>\n",
       "      <td>blue</td>\n",
       "      <td>F</td>\n",
       "      <td>doutorado</td>\n",
       "    </tr>\n",
       "    <tr>\n",
       "      <th>2</th>\n",
       "      <td>133</td>\n",
       "      <td>1438.07</td>\n",
       "      <td>blue</td>\n",
       "      <td>M</td>\n",
       "      <td>doutorado</td>\n",
       "    </tr>\n",
       "    <tr>\n",
       "      <th>3</th>\n",
       "      <td>316</td>\n",
       "      <td>1438.08</td>\n",
       "      <td>blue</td>\n",
       "      <td>F</td>\n",
       "      <td>mestrado</td>\n",
       "    </tr>\n",
       "    <tr>\n",
       "      <th>4</th>\n",
       "      <td>148</td>\n",
       "      <td>1438.12</td>\n",
       "      <td>blue</td>\n",
       "      <td>F</td>\n",
       "      <td>sem educacao formal</td>\n",
       "    </tr>\n",
       "    <tr>\n",
       "      <th>5</th>\n",
       "      <td>190</td>\n",
       "      <td>1438.17</td>\n",
       "      <td>blue</td>\n",
       "      <td>F</td>\n",
       "      <td>ensino medio</td>\n",
       "    </tr>\n",
       "    <tr>\n",
       "      <th>6</th>\n",
       "      <td>203</td>\n",
       "      <td>1438.18</td>\n",
       "      <td>blue</td>\n",
       "      <td>M</td>\n",
       "      <td>sem educacao formal</td>\n",
       "    </tr>\n",
       "    <tr>\n",
       "      <th>7</th>\n",
       "      <td>330</td>\n",
       "      <td>1438.26</td>\n",
       "      <td>blue</td>\n",
       "      <td>M</td>\n",
       "      <td>ensino medio</td>\n",
       "    </tr>\n",
       "    <tr>\n",
       "      <th>8</th>\n",
       "      <td>158</td>\n",
       "      <td>1438.43</td>\n",
       "      <td>blue</td>\n",
       "      <td>M</td>\n",
       "      <td>graduacao</td>\n",
       "    </tr>\n",
       "    <tr>\n",
       "      <th>9</th>\n",
       "      <td>462</td>\n",
       "      <td>1438.45</td>\n",
       "      <td>blue</td>\n",
       "      <td>M</td>\n",
       "      <td>mestrado</td>\n",
       "    </tr>\n",
       "    <tr>\n",
       "      <th>10</th>\n",
       "      <td>9</td>\n",
       "      <td>10091.74</td>\n",
       "      <td>silver</td>\n",
       "      <td>F</td>\n",
       "      <td>sem educacao formal</td>\n",
       "    </tr>\n",
       "    <tr>\n",
       "      <th>11</th>\n",
       "      <td>6</td>\n",
       "      <td>10110.58</td>\n",
       "      <td>silver</td>\n",
       "      <td>F</td>\n",
       "      <td>mestrado</td>\n",
       "    </tr>\n",
       "    <tr>\n",
       "      <th>12</th>\n",
       "      <td>5</td>\n",
       "      <td>10357.97</td>\n",
       "      <td>silver</td>\n",
       "      <td>F</td>\n",
       "      <td>doutorado</td>\n",
       "    </tr>\n",
       "    <tr>\n",
       "      <th>13</th>\n",
       "      <td>5</td>\n",
       "      <td>10514.17</td>\n",
       "      <td>silver</td>\n",
       "      <td>F</td>\n",
       "      <td>ensino medio</td>\n",
       "    </tr>\n",
       "    <tr>\n",
       "      <th>14</th>\n",
       "      <td>3</td>\n",
       "      <td>10790.91</td>\n",
       "      <td>silver</td>\n",
       "      <td>F</td>\n",
       "      <td>graduacao</td>\n",
       "    </tr>\n",
       "    <tr>\n",
       "      <th>15</th>\n",
       "      <td>14</td>\n",
       "      <td>12609.78</td>\n",
       "      <td>silver</td>\n",
       "      <td>M</td>\n",
       "      <td>ensino medio</td>\n",
       "    </tr>\n",
       "    <tr>\n",
       "      <th>16</th>\n",
       "      <td>22</td>\n",
       "      <td>15198.71</td>\n",
       "      <td>silver</td>\n",
       "      <td>M</td>\n",
       "      <td>mestrado</td>\n",
       "    </tr>\n",
       "    <tr>\n",
       "      <th>17</th>\n",
       "      <td>2</td>\n",
       "      <td>15433.35</td>\n",
       "      <td>gold</td>\n",
       "      <td>F</td>\n",
       "      <td>ensino medio</td>\n",
       "    </tr>\n",
       "    <tr>\n",
       "      <th>18</th>\n",
       "      <td>3</td>\n",
       "      <td>15459.46</td>\n",
       "      <td>silver</td>\n",
       "      <td>M</td>\n",
       "      <td>doutorado</td>\n",
       "    </tr>\n",
       "    <tr>\n",
       "      <th>19</th>\n",
       "      <td>1</td>\n",
       "      <td>15987.78</td>\n",
       "      <td>gold</td>\n",
       "      <td>F</td>\n",
       "      <td>mestrado</td>\n",
       "    </tr>\n",
       "    <tr>\n",
       "      <th>20</th>\n",
       "      <td>7</td>\n",
       "      <td>18431.35</td>\n",
       "      <td>silver</td>\n",
       "      <td>M</td>\n",
       "      <td>sem educacao formal</td>\n",
       "    </tr>\n",
       "    <tr>\n",
       "      <th>21</th>\n",
       "      <td>7</td>\n",
       "      <td>26750.60</td>\n",
       "      <td>silver</td>\n",
       "      <td>M</td>\n",
       "      <td>graduacao</td>\n",
       "    </tr>\n",
       "    <tr>\n",
       "      <th>22</th>\n",
       "      <td>1</td>\n",
       "      <td>34516.16</td>\n",
       "      <td>gold</td>\n",
       "      <td>M</td>\n",
       "      <td>doutorado</td>\n",
       "    </tr>\n",
       "    <tr>\n",
       "      <th>23</th>\n",
       "      <td>1</td>\n",
       "      <td>34516.25</td>\n",
       "      <td>platinum</td>\n",
       "      <td>M</td>\n",
       "      <td>mestrado</td>\n",
       "    </tr>\n",
       "    <tr>\n",
       "      <th>24</th>\n",
       "      <td>4</td>\n",
       "      <td>34516.60</td>\n",
       "      <td>gold</td>\n",
       "      <td>M</td>\n",
       "      <td>ensino medio</td>\n",
       "    </tr>\n",
       "    <tr>\n",
       "      <th>25</th>\n",
       "      <td>2</td>\n",
       "      <td>34516.91</td>\n",
       "      <td>gold</td>\n",
       "      <td>M</td>\n",
       "      <td>mestrado</td>\n",
       "    </tr>\n",
       "    <tr>\n",
       "      <th>26</th>\n",
       "      <td>1</td>\n",
       "      <td>34516.94</td>\n",
       "      <td>gold</td>\n",
       "      <td>M</td>\n",
       "      <td>graduacao</td>\n",
       "    </tr>\n",
       "    <tr>\n",
       "      <th>27</th>\n",
       "      <td>1</td>\n",
       "      <td>34516.94</td>\n",
       "      <td>gold</td>\n",
       "      <td>F</td>\n",
       "      <td>graduacao</td>\n",
       "    </tr>\n",
       "    <tr>\n",
       "      <th>28</th>\n",
       "      <td>1</td>\n",
       "      <td>34516.96</td>\n",
       "      <td>platinum</td>\n",
       "      <td>F</td>\n",
       "      <td>doutorado</td>\n",
       "    </tr>\n",
       "  </tbody>\n",
       "</table>\n",
       "</div>"
      ],
      "text/plain": [
       "    quantidade  limite_credito_minimo tipo_cartao sexo         escolaridade\n",
       "0           91                1438.03        blue    F            graduacao\n",
       "1           92                1438.04        blue    F            doutorado\n",
       "2          133                1438.07        blue    M            doutorado\n",
       "3          316                1438.08        blue    F             mestrado\n",
       "4          148                1438.12        blue    F  sem educacao formal\n",
       "5          190                1438.17        blue    F         ensino medio\n",
       "6          203                1438.18        blue    M  sem educacao formal\n",
       "7          330                1438.26        blue    M         ensino medio\n",
       "8          158                1438.43        blue    M            graduacao\n",
       "9          462                1438.45        blue    M             mestrado\n",
       "10           9               10091.74      silver    F  sem educacao formal\n",
       "11           6               10110.58      silver    F             mestrado\n",
       "12           5               10357.97      silver    F            doutorado\n",
       "13           5               10514.17      silver    F         ensino medio\n",
       "14           3               10790.91      silver    F            graduacao\n",
       "15          14               12609.78      silver    M         ensino medio\n",
       "16          22               15198.71      silver    M             mestrado\n",
       "17           2               15433.35        gold    F         ensino medio\n",
       "18           3               15459.46      silver    M            doutorado\n",
       "19           1               15987.78        gold    F             mestrado\n",
       "20           7               18431.35      silver    M  sem educacao formal\n",
       "21           7               26750.60      silver    M            graduacao\n",
       "22           1               34516.16        gold    M            doutorado\n",
       "23           1               34516.25    platinum    M             mestrado\n",
       "24           4               34516.60        gold    M         ensino medio\n",
       "25           2               34516.91        gold    M             mestrado\n",
       "26           1               34516.94        gold    M            graduacao\n",
       "27           1               34516.94        gold    F            graduacao\n",
       "28           1               34516.96    platinum    F            doutorado"
      ]
     },
     "execution_count": 12,
     "metadata": {},
     "output_type": "execute_result"
    }
   ],
   "source": [
    "pd.read_csv('https://raw.githubusercontent.com/JessicaMitsuoka/exercicios-SQL-para-Analise-de-Dados-EBAC/refs/heads/main/Modulo%208%20-%20Projeto%20Final/dados/output/query12.csv')"
   ]
  },
  {
   "cell_type": "markdown",
   "id": "c9a5752b",
   "metadata": {
    "papermill": {
     "duration": 0.022514,
     "end_time": "2023-05-23T19:02:10.564528",
     "exception": false,
     "start_time": "2023-05-23T19:02:10.542014",
     "status": "completed"
    },
    "tags": []
   },
   "source": [
    "## 2.7.2 Limite máximo de crédito de acordo com o tipo de cartão, sexo e escolaridade"
   ]
  },
  {
   "cell_type": "markdown",
   "id": "e1eeb82b",
   "metadata": {
    "papermill": {
     "duration": 0.022365,
     "end_time": "2023-05-23T19:02:10.609574",
     "exception": false,
     "start_time": "2023-05-23T19:02:10.587209",
     "status": "completed"
    },
    "tags": []
   },
   "source": [
    "> **Query 13:**\n",
    "\n",
    "```sql\n",
    "SELECT COUNT(*) as quantidade,\n",
    "\tMAX(limite_credito) AS limite_credito_maximo,\n",
    "\ttipo_cartao,\n",
    "\tsexo,\n",
    "\tescolaridade\n",
    "FROM credito\n",
    "WHERE escolaridade != 'na'\n",
    "GROUP BY sexo,\n",
    "\tescolaridade,\n",
    "\ttipo_cartao\n",
    "ORDER BY limite_credito_maximo DESC;\n",
    "```"
   ]
  },
  {
   "cell_type": "code",
   "execution_count": 13,
   "id": "59d14db1",
   "metadata": {
    "execution": {
     "iopub.execute_input": "2023-05-23T19:02:10.656892Z",
     "iopub.status.busy": "2023-05-23T19:02:10.656468Z",
     "iopub.status.idle": "2023-05-23T19:02:10.900842Z",
     "shell.execute_reply": "2023-05-23T19:02:10.89952Z"
    },
    "jupyter": {
     "source_hidden": true
    },
    "papermill": {
     "duration": 0.271123,
     "end_time": "2023-05-23T19:02:10.903639",
     "exception": false,
     "start_time": "2023-05-23T19:02:10.632516",
     "status": "completed"
    },
    "tags": []
   },
   "outputs": [
    {
     "data": {
      "text/html": [
       "<div>\n",
       "<style scoped>\n",
       "    .dataframe tbody tr th:only-of-type {\n",
       "        vertical-align: middle;\n",
       "    }\n",
       "\n",
       "    .dataframe tbody tr th {\n",
       "        vertical-align: top;\n",
       "    }\n",
       "\n",
       "    .dataframe thead th {\n",
       "        text-align: right;\n",
       "    }\n",
       "</style>\n",
       "<table border=\"1\" class=\"dataframe\">\n",
       "  <thead>\n",
       "    <tr style=\"text-align: right;\">\n",
       "      <th></th>\n",
       "      <th>quantidade</th>\n",
       "      <th>limite_credito_maximo</th>\n",
       "      <th>tipo_cartao</th>\n",
       "      <th>sexo</th>\n",
       "      <th>escolaridade</th>\n",
       "    </tr>\n",
       "  </thead>\n",
       "  <tbody>\n",
       "    <tr>\n",
       "      <th>0</th>\n",
       "      <td>203</td>\n",
       "      <td>34516.99</td>\n",
       "      <td>blue</td>\n",
       "      <td>M</td>\n",
       "      <td>sem educacao formal</td>\n",
       "    </tr>\n",
       "    <tr>\n",
       "      <th>1</th>\n",
       "      <td>2</td>\n",
       "      <td>34516.98</td>\n",
       "      <td>gold</td>\n",
       "      <td>M</td>\n",
       "      <td>mestrado</td>\n",
       "    </tr>\n",
       "    <tr>\n",
       "      <th>2</th>\n",
       "      <td>462</td>\n",
       "      <td>34516.97</td>\n",
       "      <td>blue</td>\n",
       "      <td>M</td>\n",
       "      <td>mestrado</td>\n",
       "    </tr>\n",
       "    <tr>\n",
       "      <th>3</th>\n",
       "      <td>1</td>\n",
       "      <td>34516.96</td>\n",
       "      <td>platinum</td>\n",
       "      <td>F</td>\n",
       "      <td>doutorado</td>\n",
       "    </tr>\n",
       "    <tr>\n",
       "      <th>4</th>\n",
       "      <td>7</td>\n",
       "      <td>34516.96</td>\n",
       "      <td>silver</td>\n",
       "      <td>M</td>\n",
       "      <td>sem educacao formal</td>\n",
       "    </tr>\n",
       "    <tr>\n",
       "      <th>5</th>\n",
       "      <td>4</td>\n",
       "      <td>34516.95</td>\n",
       "      <td>gold</td>\n",
       "      <td>M</td>\n",
       "      <td>ensino medio</td>\n",
       "    </tr>\n",
       "    <tr>\n",
       "      <th>6</th>\n",
       "      <td>1</td>\n",
       "      <td>34516.94</td>\n",
       "      <td>gold</td>\n",
       "      <td>M</td>\n",
       "      <td>graduacao</td>\n",
       "    </tr>\n",
       "    <tr>\n",
       "      <th>7</th>\n",
       "      <td>1</td>\n",
       "      <td>34516.94</td>\n",
       "      <td>gold</td>\n",
       "      <td>F</td>\n",
       "      <td>graduacao</td>\n",
       "    </tr>\n",
       "    <tr>\n",
       "      <th>8</th>\n",
       "      <td>7</td>\n",
       "      <td>34516.89</td>\n",
       "      <td>silver</td>\n",
       "      <td>M</td>\n",
       "      <td>graduacao</td>\n",
       "    </tr>\n",
       "    <tr>\n",
       "      <th>9</th>\n",
       "      <td>330</td>\n",
       "      <td>34516.74</td>\n",
       "      <td>blue</td>\n",
       "      <td>M</td>\n",
       "      <td>ensino medio</td>\n",
       "    </tr>\n",
       "    <tr>\n",
       "      <th>10</th>\n",
       "      <td>158</td>\n",
       "      <td>34516.73</td>\n",
       "      <td>blue</td>\n",
       "      <td>M</td>\n",
       "      <td>graduacao</td>\n",
       "    </tr>\n",
       "    <tr>\n",
       "      <th>11</th>\n",
       "      <td>133</td>\n",
       "      <td>34516.72</td>\n",
       "      <td>blue</td>\n",
       "      <td>M</td>\n",
       "      <td>doutorado</td>\n",
       "    </tr>\n",
       "    <tr>\n",
       "      <th>12</th>\n",
       "      <td>22</td>\n",
       "      <td>34516.66</td>\n",
       "      <td>silver</td>\n",
       "      <td>M</td>\n",
       "      <td>mestrado</td>\n",
       "    </tr>\n",
       "    <tr>\n",
       "      <th>13</th>\n",
       "      <td>5</td>\n",
       "      <td>34516.53</td>\n",
       "      <td>silver</td>\n",
       "      <td>F</td>\n",
       "      <td>doutorado</td>\n",
       "    </tr>\n",
       "    <tr>\n",
       "      <th>14</th>\n",
       "      <td>3</td>\n",
       "      <td>34516.36</td>\n",
       "      <td>silver</td>\n",
       "      <td>F</td>\n",
       "      <td>graduacao</td>\n",
       "    </tr>\n",
       "    <tr>\n",
       "      <th>15</th>\n",
       "      <td>14</td>\n",
       "      <td>34516.34</td>\n",
       "      <td>silver</td>\n",
       "      <td>M</td>\n",
       "      <td>ensino medio</td>\n",
       "    </tr>\n",
       "    <tr>\n",
       "      <th>16</th>\n",
       "      <td>3</td>\n",
       "      <td>34516.29</td>\n",
       "      <td>silver</td>\n",
       "      <td>M</td>\n",
       "      <td>doutorado</td>\n",
       "    </tr>\n",
       "    <tr>\n",
       "      <th>17</th>\n",
       "      <td>9</td>\n",
       "      <td>34516.26</td>\n",
       "      <td>silver</td>\n",
       "      <td>F</td>\n",
       "      <td>sem educacao formal</td>\n",
       "    </tr>\n",
       "    <tr>\n",
       "      <th>18</th>\n",
       "      <td>1</td>\n",
       "      <td>34516.25</td>\n",
       "      <td>platinum</td>\n",
       "      <td>M</td>\n",
       "      <td>mestrado</td>\n",
       "    </tr>\n",
       "    <tr>\n",
       "      <th>19</th>\n",
       "      <td>1</td>\n",
       "      <td>34516.16</td>\n",
       "      <td>gold</td>\n",
       "      <td>M</td>\n",
       "      <td>doutorado</td>\n",
       "    </tr>\n",
       "    <tr>\n",
       "      <th>20</th>\n",
       "      <td>6</td>\n",
       "      <td>30310.45</td>\n",
       "      <td>silver</td>\n",
       "      <td>F</td>\n",
       "      <td>mestrado</td>\n",
       "    </tr>\n",
       "    <tr>\n",
       "      <th>21</th>\n",
       "      <td>190</td>\n",
       "      <td>29543.10</td>\n",
       "      <td>blue</td>\n",
       "      <td>F</td>\n",
       "      <td>ensino medio</td>\n",
       "    </tr>\n",
       "    <tr>\n",
       "      <th>22</th>\n",
       "      <td>148</td>\n",
       "      <td>26181.89</td>\n",
       "      <td>blue</td>\n",
       "      <td>F</td>\n",
       "      <td>sem educacao formal</td>\n",
       "    </tr>\n",
       "    <tr>\n",
       "      <th>23</th>\n",
       "      <td>92</td>\n",
       "      <td>26053.49</td>\n",
       "      <td>blue</td>\n",
       "      <td>F</td>\n",
       "      <td>doutorado</td>\n",
       "    </tr>\n",
       "    <tr>\n",
       "      <th>24</th>\n",
       "      <td>316</td>\n",
       "      <td>24936.22</td>\n",
       "      <td>blue</td>\n",
       "      <td>F</td>\n",
       "      <td>mestrado</td>\n",
       "    </tr>\n",
       "    <tr>\n",
       "      <th>25</th>\n",
       "      <td>91</td>\n",
       "      <td>23032.31</td>\n",
       "      <td>blue</td>\n",
       "      <td>F</td>\n",
       "      <td>graduacao</td>\n",
       "    </tr>\n",
       "    <tr>\n",
       "      <th>26</th>\n",
       "      <td>1</td>\n",
       "      <td>15987.78</td>\n",
       "      <td>gold</td>\n",
       "      <td>F</td>\n",
       "      <td>mestrado</td>\n",
       "    </tr>\n",
       "    <tr>\n",
       "      <th>27</th>\n",
       "      <td>2</td>\n",
       "      <td>15534.85</td>\n",
       "      <td>gold</td>\n",
       "      <td>F</td>\n",
       "      <td>ensino medio</td>\n",
       "    </tr>\n",
       "    <tr>\n",
       "      <th>28</th>\n",
       "      <td>5</td>\n",
       "      <td>13882.37</td>\n",
       "      <td>silver</td>\n",
       "      <td>F</td>\n",
       "      <td>ensino medio</td>\n",
       "    </tr>\n",
       "  </tbody>\n",
       "</table>\n",
       "</div>"
      ],
      "text/plain": [
       "    quantidade  limite_credito_maximo tipo_cartao sexo         escolaridade\n",
       "0          203               34516.99        blue    M  sem educacao formal\n",
       "1            2               34516.98        gold    M             mestrado\n",
       "2          462               34516.97        blue    M             mestrado\n",
       "3            1               34516.96    platinum    F            doutorado\n",
       "4            7               34516.96      silver    M  sem educacao formal\n",
       "5            4               34516.95        gold    M         ensino medio\n",
       "6            1               34516.94        gold    M            graduacao\n",
       "7            1               34516.94        gold    F            graduacao\n",
       "8            7               34516.89      silver    M            graduacao\n",
       "9          330               34516.74        blue    M         ensino medio\n",
       "10         158               34516.73        blue    M            graduacao\n",
       "11         133               34516.72        blue    M            doutorado\n",
       "12          22               34516.66      silver    M             mestrado\n",
       "13           5               34516.53      silver    F            doutorado\n",
       "14           3               34516.36      silver    F            graduacao\n",
       "15          14               34516.34      silver    M         ensino medio\n",
       "16           3               34516.29      silver    M            doutorado\n",
       "17           9               34516.26      silver    F  sem educacao formal\n",
       "18           1               34516.25    platinum    M             mestrado\n",
       "19           1               34516.16        gold    M            doutorado\n",
       "20           6               30310.45      silver    F             mestrado\n",
       "21         190               29543.10        blue    F         ensino medio\n",
       "22         148               26181.89        blue    F  sem educacao formal\n",
       "23          92               26053.49        blue    F            doutorado\n",
       "24         316               24936.22        blue    F             mestrado\n",
       "25          91               23032.31        blue    F            graduacao\n",
       "26           1               15987.78        gold    F             mestrado\n",
       "27           2               15534.85        gold    F         ensino medio\n",
       "28           5               13882.37      silver    F         ensino medio"
      ]
     },
     "execution_count": 13,
     "metadata": {},
     "output_type": "execute_result"
    }
   ],
   "source": [
    "pd.read_csv('https://raw.githubusercontent.com/JessicaMitsuoka/exercicios-SQL-para-Analise-de-Dados-EBAC/refs/heads/main/Modulo%208%20-%20Projeto%20Final/dados/output/query13.csv')"
   ]
  },
  {
   "cell_type": "markdown",
   "id": "3ec88f2e",
   "metadata": {
    "papermill": {
     "duration": 0.023522,
     "end_time": "2023-05-23T19:02:10.99868",
     "exception": false,
     "start_time": "2023-05-23T19:02:10.975158",
     "status": "completed"
    },
    "tags": []
   },
   "source": [
    "É possível observar que não há uma relação considerável da variável `escolaridade` com o limite de crédito dos clientes. Os resultados dos limites mínimos de acordo com as separações categóricas demonstram que o tipo de cartão *blue* representa a maior parte dos limites mais baixos enquanto os demais representam os mais altos. \n",
    "\n",
    "A variável `sexo` demonstra que clientes do sexo masculino possuem limites máximos de crédito mais altos enquanto clientes do sexo feminino possuem limites máximos de crédito mais baixos."
   ]
  },
  {
   "cell_type": "markdown",
   "id": "9c6316bb",
   "metadata": {
    "papermill": {
     "duration": 0.023872,
     "end_time": "2023-05-23T19:02:11.047574",
     "exception": false,
     "start_time": "2023-05-23T19:02:11.023702",
     "status": "completed"
    },
    "tags": []
   },
   "source": [
    "## 2.8 Análise da quantidade e valores das transações de acordo com o sexo e estado civil"
   ]
  },
  {
   "cell_type": "markdown",
   "id": "3f1e6ba3",
   "metadata": {
    "papermill": {
     "duration": 0.023539,
     "end_time": "2023-05-23T19:02:11.095136",
     "exception": false,
     "start_time": "2023-05-23T19:02:11.071597",
     "status": "completed"
    },
    "tags": []
   },
   "source": [
    "> **Query 14:**\n",
    "\n",
    "```sql\n",
    "SELECT COUNT(*) AS quantidade,\n",
    "\tsexo,\n",
    "\testado_civil,\n",
    "\tMIN(valor_transacoes_12m) AS valor_minimo_transacoes,\n",
    "\tMAX(valor_transacoes_12m) AS valor_maximo_transacoes,\n",
    "\tAVG(valor_transacoes_12m) AS valor_medio_transacoes\n",
    "FROM credito\n",
    "WHERE estado_civil != 'na'\n",
    "GROUP BY sexo,\n",
    "\testado_civil\n",
    "ORDER BY quantidade ASC;\n",
    "```"
   ]
  },
  {
   "cell_type": "code",
   "execution_count": 14,
   "id": "8f0f5e7f",
   "metadata": {
    "execution": {
     "iopub.execute_input": "2023-05-23T19:02:11.144251Z",
     "iopub.status.busy": "2023-05-23T19:02:11.143553Z",
     "iopub.status.idle": "2023-05-23T19:02:11.364036Z",
     "shell.execute_reply": "2023-05-23T19:02:11.362849Z"
    },
    "jupyter": {
     "source_hidden": true
    },
    "papermill": {
     "duration": 0.247982,
     "end_time": "2023-05-23T19:02:11.366563",
     "exception": false,
     "start_time": "2023-05-23T19:02:11.118581",
     "status": "completed"
    },
    "tags": []
   },
   "outputs": [
    {
     "data": {
      "text/html": [
       "<div>\n",
       "<style scoped>\n",
       "    .dataframe tbody tr th:only-of-type {\n",
       "        vertical-align: middle;\n",
       "    }\n",
       "\n",
       "    .dataframe tbody tr th {\n",
       "        vertical-align: top;\n",
       "    }\n",
       "\n",
       "    .dataframe thead th {\n",
       "        text-align: right;\n",
       "    }\n",
       "</style>\n",
       "<table border=\"1\" class=\"dataframe\">\n",
       "  <thead>\n",
       "    <tr style=\"text-align: right;\">\n",
       "      <th></th>\n",
       "      <th>quantidade</th>\n",
       "      <th>sexo</th>\n",
       "      <th>estado_civil</th>\n",
       "      <th>valor_minimo_transacoes</th>\n",
       "      <th>valor_maximo_transacoes</th>\n",
       "      <th>valor_medio_transacoes</th>\n",
       "    </tr>\n",
       "  </thead>\n",
       "  <tbody>\n",
       "    <tr>\n",
       "      <th>0</th>\n",
       "      <td>69</td>\n",
       "      <td>F</td>\n",
       "      <td>divorciado</td>\n",
       "      <td>1039.44</td>\n",
       "      <td>4370.80</td>\n",
       "      <td>2024.6688</td>\n",
       "    </tr>\n",
       "    <tr>\n",
       "      <th>1</th>\n",
       "      <td>92</td>\n",
       "      <td>M</td>\n",
       "      <td>divorciado</td>\n",
       "      <td>781.27</td>\n",
       "      <td>4605.89</td>\n",
       "      <td>1959.7296</td>\n",
       "    </tr>\n",
       "    <tr>\n",
       "      <th>2</th>\n",
       "      <td>308</td>\n",
       "      <td>F</td>\n",
       "      <td>solteiro</td>\n",
       "      <td>777.75</td>\n",
       "      <td>4776.58</td>\n",
       "      <td>2035.2687</td>\n",
       "    </tr>\n",
       "    <tr>\n",
       "      <th>3</th>\n",
       "      <td>458</td>\n",
       "      <td>M</td>\n",
       "      <td>solteiro</td>\n",
       "      <td>530.36</td>\n",
       "      <td>4686.93</td>\n",
       "      <td>1978.7189</td>\n",
       "    </tr>\n",
       "    <tr>\n",
       "      <th>4</th>\n",
       "      <td>591</td>\n",
       "      <td>F</td>\n",
       "      <td>casado</td>\n",
       "      <td>510.16</td>\n",
       "      <td>4740.94</td>\n",
       "      <td>1707.7339</td>\n",
       "    </tr>\n",
       "    <tr>\n",
       "      <th>5</th>\n",
       "      <td>930</td>\n",
       "      <td>M</td>\n",
       "      <td>casado</td>\n",
       "      <td>563.93</td>\n",
       "      <td>4542.69</td>\n",
       "      <td>1723.0211</td>\n",
       "    </tr>\n",
       "  </tbody>\n",
       "</table>\n",
       "</div>"
      ],
      "text/plain": [
       "   quantidade sexo estado_civil  valor_minimo_transacoes  \\\n",
       "0          69    F   divorciado                  1039.44   \n",
       "1          92    M   divorciado                   781.27   \n",
       "2         308    F     solteiro                   777.75   \n",
       "3         458    M     solteiro                   530.36   \n",
       "4         591    F       casado                   510.16   \n",
       "5         930    M       casado                   563.93   \n",
       "\n",
       "   valor_maximo_transacoes  valor_medio_transacoes  \n",
       "0                  4370.80               2024.6688  \n",
       "1                  4605.89               1959.7296  \n",
       "2                  4776.58               2035.2687  \n",
       "3                  4686.93               1978.7189  \n",
       "4                  4740.94               1707.7339  \n",
       "5                  4542.69               1723.0211  "
      ]
     },
     "execution_count": 14,
     "metadata": {},
     "output_type": "execute_result"
    }
   ],
   "source": [
    "pd.read_csv('https://raw.githubusercontent.com/JessicaMitsuoka/exercicios-SQL-para-Analise-de-Dados-EBAC/refs/heads/main/Modulo%208%20-%20Projeto%20Final/dados/output/query14.csv')"
   ]
  },
  {
   "cell_type": "markdown",
   "id": "2888f70c",
   "metadata": {
    "papermill": {
     "duration": 0.023342,
     "end_time": "2023-05-23T19:02:11.414199",
     "exception": false,
     "start_time": "2023-05-23T19:02:11.390857",
     "status": "completed"
    },
    "tags": []
   },
   "source": [
    "> Nesta análise podemos notar que a quantidade de transações tem uma relação considerável com a variável `estado_civil`, sendo que a maior parte foi efetuada por clientes casados e a menor parte por clientes divorciados. Em contrapartida, a média de valor das transações também se diferencia de acordo com o estado civil mas de forma contrária, na qual a média mais alta são dos clientes divorciados e a média mais baixa são dos clientes casados, assim como pode ser constatado na relação dos valores mínimos de transações, dando a entender que a baixa quantidade de transações possívelmente tenha relação com o alto valor das mesmas.\n",
    ">\n",
    "> Em relação ao sexo do cliente, a variação não chega a ser tão grande, havendo somente uma leve discrepância entre os valores mínimos das transações, demonstrando ser mais alto entre clientes do sexo feminino que estão divorciadas. Já entre as categorias da variável `estado_civil`, observa-se que clientes solteiros e divorciados do sexo masculino efetuaram uma quantidade maior transações do que clientes do sexo feminino, porém a quantidade é um pouco maior entre clientes casados."
   ]
  },
  {
   "cell_type": "markdown",
   "id": "617f58a9",
   "metadata": {
    "papermill": {
     "duration": 0.023509,
     "end_time": "2023-05-23T19:02:11.510826",
     "exception": false,
     "start_time": "2023-05-23T19:02:11.487317",
     "status": "completed"
    },
    "tags": []
   },
   "source": [
    "## 2.9 Média da quantidade de transações, valor das transações e limite de crédito de acordo com o tipo de cartão e salário anual"
   ]
  },
  {
   "cell_type": "markdown",
   "id": "c3eba477",
   "metadata": {
    "papermill": {
     "duration": 0.024191,
     "end_time": "2023-05-23T19:02:11.55967",
     "exception": false,
     "start_time": "2023-05-23T19:02:11.535479",
     "status": "completed"
    },
    "tags": []
   },
   "source": [
    "> **Query 15:**\n",
    "\n",
    "```sql\n",
    "SELECT COUNT(*) AS quantidade,\n",
    "\ttipo_cartao,\n",
    "\tsalario_anual,\n",
    "\tROUND(AVG(qtd_transacoes_12m)) AS media_qtd_transacoes,\n",
    "\tROUND(AVG(valor_transacoes_12m), 2) AS media_valor_transacoes,\n",
    "\tROUND(AVG(limite_credito), 2) AS media_limite_credito\n",
    "FROM credito\n",
    "WHERE salario_anual != 'na'\n",
    "GROUP BY tipo_cartao,\n",
    "\tsalario_anual\n",
    "ORDER BY CASE\n",
    "\t\ttipo_cartao\n",
    "\t\tWHEN 'blue' THEN 1\n",
    "\t\tWHEN 'silver' THEN 2\n",
    "\t\tWHEN 'gold' THEN 3 ELSE 4\n",
    "\tEND,\n",
    "\tCASE\n",
    "\t\tsalario_anual\n",
    "\t\tWHEN 'menos que $40K' THEN 1\n",
    "\t\tWHEN '$40K - $60K' THEN 2\n",
    "\t\tWHEN '$60K - $80K' THEN 3\n",
    "\t\tWHEN '$80K - $120K' THEN 4\n",
    "\t\tWHEN '$120K +' THEN 5 ELSE 6\n",
    "\tEND;\n",
    "```"
   ]
  },
  {
   "cell_type": "code",
   "execution_count": 15,
   "id": "95134f88",
   "metadata": {
    "execution": {
     "iopub.execute_input": "2023-05-23T19:02:11.610038Z",
     "iopub.status.busy": "2023-05-23T19:02:11.609211Z",
     "iopub.status.idle": "2023-05-23T19:02:12.05458Z",
     "shell.execute_reply": "2023-05-23T19:02:12.053496Z"
    },
    "jupyter": {
     "source_hidden": true
    },
    "papermill": {
     "duration": 0.473398,
     "end_time": "2023-05-23T19:02:12.057105",
     "exception": false,
     "start_time": "2023-05-23T19:02:11.583707",
     "status": "completed"
    },
    "tags": []
   },
   "outputs": [
    {
     "data": {
      "text/html": [
       "<div>\n",
       "<style scoped>\n",
       "    .dataframe tbody tr th:only-of-type {\n",
       "        vertical-align: middle;\n",
       "    }\n",
       "\n",
       "    .dataframe tbody tr th {\n",
       "        vertical-align: top;\n",
       "    }\n",
       "\n",
       "    .dataframe thead th {\n",
       "        text-align: right;\n",
       "    }\n",
       "</style>\n",
       "<table border=\"1\" class=\"dataframe\">\n",
       "  <thead>\n",
       "    <tr style=\"text-align: right;\">\n",
       "      <th></th>\n",
       "      <th>quantidade</th>\n",
       "      <th>tipo_cartao</th>\n",
       "      <th>salario_anual</th>\n",
       "      <th>media_qtd_transacoes</th>\n",
       "      <th>media_valor_transacoes</th>\n",
       "      <th>media_limite_credito</th>\n",
       "    </tr>\n",
       "  </thead>\n",
       "  <tbody>\n",
       "    <tr>\n",
       "      <th>0</th>\n",
       "      <td>677</td>\n",
       "      <td>blue</td>\n",
       "      <td>menos que $40K</td>\n",
       "      <td>43.0</td>\n",
       "      <td>1857.24</td>\n",
       "      <td>3797.09</td>\n",
       "    </tr>\n",
       "    <tr>\n",
       "      <th>1</th>\n",
       "      <td>449</td>\n",
       "      <td>blue</td>\n",
       "      <td>$40K - $60K</td>\n",
       "      <td>42.0</td>\n",
       "      <td>1841.51</td>\n",
       "      <td>4832.76</td>\n",
       "    </tr>\n",
       "    <tr>\n",
       "      <th>2</th>\n",
       "      <td>431</td>\n",
       "      <td>blue</td>\n",
       "      <td>$60K - $80K</td>\n",
       "      <td>41.0</td>\n",
       "      <td>1814.45</td>\n",
       "      <td>8061.38</td>\n",
       "    </tr>\n",
       "    <tr>\n",
       "      <th>3</th>\n",
       "      <td>461</td>\n",
       "      <td>blue</td>\n",
       "      <td>$80K - $120K</td>\n",
       "      <td>40.0</td>\n",
       "      <td>1748.57</td>\n",
       "      <td>13736.87</td>\n",
       "    </tr>\n",
       "    <tr>\n",
       "      <th>4</th>\n",
       "      <td>212</td>\n",
       "      <td>blue</td>\n",
       "      <td>$120K +</td>\n",
       "      <td>40.0</td>\n",
       "      <td>1707.02</td>\n",
       "      <td>17105.39</td>\n",
       "    </tr>\n",
       "    <tr>\n",
       "      <th>5</th>\n",
       "      <td>20</td>\n",
       "      <td>silver</td>\n",
       "      <td>menos que $40K</td>\n",
       "      <td>45.0</td>\n",
       "      <td>2120.20</td>\n",
       "      <td>12007.81</td>\n",
       "    </tr>\n",
       "    <tr>\n",
       "      <th>6</th>\n",
       "      <td>17</td>\n",
       "      <td>silver</td>\n",
       "      <td>$40K - $60K</td>\n",
       "      <td>43.0</td>\n",
       "      <td>1776.94</td>\n",
       "      <td>17870.18</td>\n",
       "    </tr>\n",
       "    <tr>\n",
       "      <th>7</th>\n",
       "      <td>15</td>\n",
       "      <td>silver</td>\n",
       "      <td>$60K - $80K</td>\n",
       "      <td>39.0</td>\n",
       "      <td>1610.78</td>\n",
       "      <td>30351.36</td>\n",
       "    </tr>\n",
       "    <tr>\n",
       "      <th>8</th>\n",
       "      <td>22</td>\n",
       "      <td>silver</td>\n",
       "      <td>$80K - $120K</td>\n",
       "      <td>45.0</td>\n",
       "      <td>1910.17</td>\n",
       "      <td>34516.40</td>\n",
       "    </tr>\n",
       "    <tr>\n",
       "      <th>9</th>\n",
       "      <td>9</td>\n",
       "      <td>silver</td>\n",
       "      <td>$120K +</td>\n",
       "      <td>41.0</td>\n",
       "      <td>1611.85</td>\n",
       "      <td>32341.10</td>\n",
       "    </tr>\n",
       "    <tr>\n",
       "      <th>10</th>\n",
       "      <td>4</td>\n",
       "      <td>gold</td>\n",
       "      <td>menos que $40K</td>\n",
       "      <td>38.0</td>\n",
       "      <td>1502.60</td>\n",
       "      <td>15735.89</td>\n",
       "    </tr>\n",
       "    <tr>\n",
       "      <th>11</th>\n",
       "      <td>1</td>\n",
       "      <td>gold</td>\n",
       "      <td>$40K - $60K</td>\n",
       "      <td>34.0</td>\n",
       "      <td>1421.27</td>\n",
       "      <td>23981.32</td>\n",
       "    </tr>\n",
       "    <tr>\n",
       "      <th>12</th>\n",
       "      <td>5</td>\n",
       "      <td>gold</td>\n",
       "      <td>$60K - $80K</td>\n",
       "      <td>58.0</td>\n",
       "      <td>2802.68</td>\n",
       "      <td>34516.77</td>\n",
       "    </tr>\n",
       "    <tr>\n",
       "      <th>13</th>\n",
       "      <td>4</td>\n",
       "      <td>gold</td>\n",
       "      <td>$80K - $120K</td>\n",
       "      <td>44.0</td>\n",
       "      <td>1823.24</td>\n",
       "      <td>34516.84</td>\n",
       "    </tr>\n",
       "    <tr>\n",
       "      <th>14</th>\n",
       "      <td>1</td>\n",
       "      <td>gold</td>\n",
       "      <td>$120K +</td>\n",
       "      <td>31.0</td>\n",
       "      <td>1330.87</td>\n",
       "      <td>34516.72</td>\n",
       "    </tr>\n",
       "    <tr>\n",
       "      <th>15</th>\n",
       "      <td>1</td>\n",
       "      <td>platinum</td>\n",
       "      <td>$80K - $120K</td>\n",
       "      <td>29.0</td>\n",
       "      <td>1156.61</td>\n",
       "      <td>34516.25</td>\n",
       "    </tr>\n",
       "  </tbody>\n",
       "</table>\n",
       "</div>"
      ],
      "text/plain": [
       "    quantidade tipo_cartao   salario_anual  media_qtd_transacoes  \\\n",
       "0          677        blue  menos que $40K                  43.0   \n",
       "1          449        blue     $40K - $60K                  42.0   \n",
       "2          431        blue     $60K - $80K                  41.0   \n",
       "3          461        blue    $80K - $120K                  40.0   \n",
       "4          212        blue         $120K +                  40.0   \n",
       "5           20      silver  menos que $40K                  45.0   \n",
       "6           17      silver     $40K - $60K                  43.0   \n",
       "7           15      silver     $60K - $80K                  39.0   \n",
       "8           22      silver    $80K - $120K                  45.0   \n",
       "9            9      silver         $120K +                  41.0   \n",
       "10           4        gold  menos que $40K                  38.0   \n",
       "11           1        gold     $40K - $60K                  34.0   \n",
       "12           5        gold     $60K - $80K                  58.0   \n",
       "13           4        gold    $80K - $120K                  44.0   \n",
       "14           1        gold         $120K +                  31.0   \n",
       "15           1    platinum    $80K - $120K                  29.0   \n",
       "\n",
       "    media_valor_transacoes  media_limite_credito  \n",
       "0                  1857.24               3797.09  \n",
       "1                  1841.51               4832.76  \n",
       "2                  1814.45               8061.38  \n",
       "3                  1748.57              13736.87  \n",
       "4                  1707.02              17105.39  \n",
       "5                  2120.20              12007.81  \n",
       "6                  1776.94              17870.18  \n",
       "7                  1610.78              30351.36  \n",
       "8                  1910.17              34516.40  \n",
       "9                  1611.85              32341.10  \n",
       "10                 1502.60              15735.89  \n",
       "11                 1421.27              23981.32  \n",
       "12                 2802.68              34516.77  \n",
       "13                 1823.24              34516.84  \n",
       "14                 1330.87              34516.72  \n",
       "15                 1156.61              34516.25  "
      ]
     },
     "execution_count": 15,
     "metadata": {},
     "output_type": "execute_result"
    }
   ],
   "source": [
    "pd.read_csv('https://raw.githubusercontent.com/JessicaMitsuoka/exercicios-SQL-para-Analise-de-Dados-EBAC/refs/heads/main/Modulo%208%20-%20Projeto%20Final/dados/output/query15.csv')"
   ]
  },
  {
   "cell_type": "markdown",
   "id": "3fa74196",
   "metadata": {
    "papermill": {
     "duration": 0.024053,
     "end_time": "2023-05-23T19:02:12.105767",
     "exception": false,
     "start_time": "2023-05-23T19:02:12.081714",
     "status": "completed"
    },
    "tags": []
   },
   "source": [
    "> Nesta análise podemos ver novamente a relação entre o limite de crédito com o tipo de cartão do cliente, sendo que as médias mais baixas de limite são dos clientes que possuem o tipo de cartão *blue*, aumentando de acordo com a faixa salarial anual. As demais médias de quantidade e valor das transações não possuem relação tão considerável com as variáveis deste resultado."
   ]
  },
  {
   "cell_type": "markdown",
   "id": "3609ba0f",
   "metadata": {
    "papermill": {
     "duration": 0.024572,
     "end_time": "2023-05-23T19:02:12.203427",
     "exception": false,
     "start_time": "2023-05-23T19:02:12.178855",
     "status": "completed"
    },
    "tags": []
   },
   "source": [
    "# **3. Conclusão:**"
   ]
  },
  {
   "cell_type": "markdown",
   "id": "d42ebd3f",
   "metadata": {
    "papermill": {
     "duration": 0.02393,
     "end_time": "2023-05-23T19:02:12.251903",
     "exception": false,
     "start_time": "2023-05-23T19:02:12.227973",
     "status": "completed"
    },
    "tags": []
   },
   "source": [
    "Ao longo da análise exploratória do conjunto de dados, foi possível identificar padrões relevantes no comportamento dos clientes e em seus perfis demográficos. Abaixo estão os principais destaques obtidos:\n",
    "\n",
    "- Clientes com renda anual inferior a $40.000,00, em sua maioria, utilizam o cartão do tipo blue e possuem os menores limites de crédito. Por serem o grupo mais numeroso da base, estratégias de marketing voltadas a esse público podem alcançar maior alcance e impacto.\n",
    "\n",
    "- Em relação ao gênero, observou-se que homens tendem a ter limites de crédito mais elevados do que mulheres. No entanto, é necessário considerar que a base analisada apresenta uma distribuição desigual entre os sexos, o que pode interferir nessa diferença.\n",
    "\n",
    "- Pessoas casadas realizam a maior parte das transações, enquanto os clientes divorciados são menos ativos, embora realizem transações com valores médios mais altos. Isso sugere que há um perfil de consumo diferente entre esses grupos.\n",
    "\n",
    "- Analisando a interação entre estado civil e gênero, percebe-se que homens solteiros e divorciados transacionam com mais frequência do que mulheres nas mesmas condições. Já entre os casados, essa diferença é menor. Esse padrão pode ser útil para ações de marketing mais segmentadas e assertivas.\n",
    "\n",
    "- Os limites de crédito mais baixos estão associados ao cartão blue, mas em todos os tipos de cartão há uma correlação direta entre renda anual e limite médio de crédito. Isso mostra a importância de personalizar as ofertas com base na capacidade financeira de cada cliente.\n",
    "\n",
    "Essas descobertas fornecem uma visão abrangente sobre o comportamento da base de clientes e abrem espaço para decisões mais bem direcionadas e estratégias comerciais mais eficazes.\n",
    "\n",
    "**Para campanhas de marketing mais eficazes, recomenda-se priorizar os clientes casados, com cartão blue e renda anual abaixo de $40.000,00. Esse perfil representa uma parcela significativa da base e tende a responder bem a comunicações personalizadas. Focar nesse público pode otimizar recursos, aumentar o engajamento e trazer melhores resultados em aquisição e fidelização.**"
   ]
  },
  {
   "cell_type": "markdown",
   "id": "806e63e8",
   "metadata": {
    "papermill": {
     "duration": 0.024603,
     "end_time": "2023-05-23T19:02:12.301387",
     "exception": false,
     "start_time": "2023-05-23T19:02:12.276784",
     "status": "completed"
    },
    "tags": []
   },
   "source": [
    "[Voltar ao índice](#Índice)"
   ]
  },
  {
   "cell_type": "markdown",
   "id": "e35d8abb",
   "metadata": {
    "papermill": {
     "duration": 0.024057,
     "end_time": "2023-05-23T19:02:12.349688",
     "exception": false,
     "start_time": "2023-05-23T19:02:12.325631",
     "status": "completed"
    },
    "tags": []
   },
   "source": [
    "---"
   ]
  }
 ],
 "metadata": {
  "kernelspec": {
   "display_name": "Python 3",
   "language": "python",
   "name": "python3"
  },
  "language_info": {
   "codemirror_mode": {
    "name": "ipython",
    "version": 3
   },
   "file_extension": ".py",
   "mimetype": "text/x-python",
   "name": "python",
   "nbconvert_exporter": "python",
   "pygments_lexer": "ipython3",
   "version": "3.10.10"
  },
  "papermill": {
   "default_parameters": {},
   "duration": 20.968064,
   "end_time": "2023-05-23T19:02:13.195682",
   "environment_variables": {},
   "exception": null,
   "input_path": "__notebook__.ipynb",
   "output_path": "__notebook__.ipynb",
   "parameters": {},
   "start_time": "2023-05-23T19:01:52.227618",
   "version": "2.4.0"
  }
 },
 "nbformat": 4,
 "nbformat_minor": 5
}
